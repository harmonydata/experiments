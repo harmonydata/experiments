{
 "cells": [
  {
   "cell_type": "markdown",
   "id": "6593730f",
   "metadata": {},
   "source": [
    "# Evaluate Harmony against other languages"
   ]
  },
  {
   "cell_type": "code",
   "execution_count": 1,
   "id": "42666352",
   "metadata": {},
   "outputs": [],
   "source": [
    "import harmony"
   ]
  },
  {
   "cell_type": "code",
   "execution_count": 2,
   "id": "73ee2ec8",
   "metadata": {},
   "outputs": [],
   "source": [
    "instruments = [harmony.example_instruments['GAD-7 English'], harmony.example_instruments['GAD-7 Portuguese']]"
   ]
  },
  {
   "cell_type": "code",
   "execution_count": 3,
   "id": "cbdf0c20",
   "metadata": {},
   "outputs": [],
   "source": [
    "other_langs = {\"fr\":\"\"\"Sentiment de nervosité, d’anxiété ou de tension\n",
    "Incapable d’arrêter de vous inquiéter ou de contrôler vos inquiétudes\n",
    "Inquiétudes excessives à propos de tout et de rien\n",
    "Difficulté à se détendre\n",
    "Agitation telle qu’il est difficile de rester tranquille\n",
    "Devenir facilement contrarié(e) ou irritable\n",
    "Avoir peur que quelque chose d’épouvantable puisse arriver\"\"\",\n",
    "\"de\":\"\"\"Nervosität, Ängstlichkeit oder Anspannung\n",
    "Nicht in der Lage sein, Sorgen zu stoppen oder zu kontrollieren\n",
    "Übermäßige Sorgen bezüglich verschiedener Angelegenheiten\n",
    "Schwierigkeiten zu entspannen\n",
    "Rastlosigkeit, so dass Stillsitzen schwer fällt\n",
    "Schnelle Verärgerung oder Gereiztheit\n",
    "Gefühl der Angst, so als würde etwas Schlimmes passieren\"\"\",\n",
    "              \"de\":\"\"\"Nervosität, Ängstlichkeit oder Anspannung\n",
    "Nicht in der Lage sein, Sorgen zu stoppen oder zu kontrollieren\n",
    "Übermäßige Sorgen bezüglich verschiedener Angelegenheiten\n",
    "Schwierigkeiten zu entspannen\n",
    "Rastlosigkeit, so dass Stillsitzen schwer fällt\n",
    "Schnelle Verärgerung oder Gereiztheit\n",
    "Gefühl der Angst, so als würde etwas Schlimmes passieren\"\"\",\n",
    "              \"es\":\"\"\"Sentirse nervioso/a, intranquilo/a o con los nervios de punta\n",
    "No poder dejar de preocuparse o no poder controlar la preocupación\n",
    "Preocuparse demasiado por diferentes cosas\n",
    "Dificultad para relajarse\n",
    "Estar tan inquieto/a que es difícil permanecer sentado/a tranquilamente\n",
    "Molestarse o ponerse irritable fácilmente\n",
    "Sentir miedo como si algo terrible pudiera pasar\"\"\",\n",
    "              \"ru\":\"\"\"Вы нервничали, тревожились или испытывали сильный стресс\n",
    "Вы были неспособны успокоиться или контролировать свое волнение\n",
    "Вы слишком сильно волновались по различным поводам\n",
    "Вам было трудно расслабиться\n",
    "Вы были настолько суетливы, что Вам было тяжело усидеть на месте\n",
    "Вы легко злились или раздражались\n",
    "Вы испытывали страх, словно должно произойти нечто ужасное\"\"\",\n",
    "              \"zh\":\"\"\"感觉紧张、焦虑或不安\n",
    "无法停止或控制担忧\n",
    "对各种事情担心太多 \n",
    "难以放松 \n",
    "坐立不安，以至于很难安静地坐下来\n",
    "变得容易生气或急躁 \n",
    "感觉害怕，好像有可怕的事情要发生一样\"\"\",\n",
    "              \"af\":\"\"\"Senuagtig, angstig of gespanne gevoel\n",
    "Kon nie ophou om bekommerd te wees nie\n",
    "Oormatig bekommerd oor verskillende goed\n",
    "Sukkel om te ontspan\n",
    "Só rusteloos dat dit moeilik is om stil te sit\n",
    "Raak maklik vies of geïrriteerd\n",
    "Voel bang asof iets aakligs kan gebeur \"\"\",\n",
    "              \"ceb\":\"\"\"Gibati og nerbiyos, kabalaka, o kahadlok\n",
    "Dili makahunong o makakontrol sa pagkabalaka\n",
    "Sobra nga nabalaka bahin sa lain-lain nga mga butang\n",
    "Lisod pagkalma\n",
    "Nag-alindasay pag-ayo nga lisod pagpabilin nga maglingkod\n",
    "Nahimong dali maglagot o iritable\n",
    "Nahadlok nga basin naay dautan nga mahitabo \"\"\",\n",
    "              \"kn\":\"\"\"ತಳಮಳ, ಆತಂಕ ಅಥ ಾ ಬಹಳ ΅ಾತರದ ಅನುಭವ\n",
    "‷ಂ⁀ಸುವ⁳ದನುΊ ⁄⁌ῤಸಲು ಅಥ ಾ ⁄ಯಂ⁀ῢಸಲು ಧῡ ಾಗ⁂ರುವ⁳ದು\n",
    "⁧ೕ⁫ ⁧ೕ⁫ ⁎ಷಯಗಳ ಬ⁕Ὴ ಅ⁀ ಾ‵ ‷ಂ⁀ಸುವ⁳ದು\n",
    "⁄ ಾಳ ಾ‵ರಲು ⁠ೂಂದ⁫\n",
    "ಒಂದು ಕ⁝ ⁑Ῐರ ಾ‵ ಕು⁍ತು⁓ೂಳῥಲೂ ಆಗದಷುῒ ಚಡಪ‽ಸುವ⁳ದು\n",
    "ಸುಲಭ ಾ‵ ⁓ೂೕಪ⁕ೂಳುῥವ⁳ದು ಅಥ ಾ ″⁋″⁋ ಾಗುವ⁳ದು\n",
    "ಏ῿ಾದರೂ ಅ῿ಾಹುತ ಸಂಭ⁎ಸುತῗ⁢ ಎಂದು ⁲ದರುವ⁳ದು\"\"\",\n",
    "              \"he\":\"\"\"הרגשתי עצבני, חרד או מתוח מאוד\n",
    "לא הייתי מסוגל להפסיק לדאוג או לשלוט בדאגה\n",
    "הייתי מודאג יותר מידי בנוגע לדברים שונים\n",
    "התקשיתי להירגע\n",
    "הייתי כל כך חסר מנוחה שהיה לי קשה לשבת מבלי לנוע\n",
    "הייתי מתעצבן או מתרגז בקלות\n",
    "פחדתי כאילו משהו נורא עלול לקרות\"\"\",\n",
    "              \"no\":\"\"\"Følt deg nervøs, engstelig eller veldig stresset\n",
    "Ikke klart å slutte å bekymre deg eller kontrolleren bekymringene dine\n",
    "Bekymret deg for mye om ulike ting\n",
    "Vansker med å slappe av\n",
    "Vært så rastløs at det har vært vanskelig å sitte stille\n",
    "Blitt lett sint eller irritert\n",
    "Følt deg redd som om noe forferdelig kunne komme til å skje\"\"\"}"
   ]
  },
  {
   "cell_type": "code",
   "execution_count": 6,
   "id": "84f77201",
   "metadata": {},
   "outputs": [],
   "source": [
    "from iso639 import languages\n",
    "import json"
   ]
  },
  {
   "cell_type": "code",
   "execution_count": 9,
   "id": "6a6cb321",
   "metadata": {
    "scrolled": false
   },
   "outputs": [
    {
     "name": "stdout",
     "output_type": "stream",
     "text": [
      "{\"file_id\": \"7c5c32fedaf1410eaae40ea995c5d227\", \"instrument_id\": \"381ab675f47c4d6193bd85391451f5b7\", \"instrument_name\": \"GAD-7 French\", \"file_name\": \"GAD-7 French.pdf\", \"file_type\": null, \"file_section\": null, \"study\": null, \"sweep\": null, \"metadata\": null, \"language\": \"en\", \"questions\": [{\"question_no\": \"1\", \"question_intro\": null, \"question_text\": \"Sentiment de nervosité, d’anxiété ou de tension\", \"options\": [], \"source_page\": 0, \"instrument_id\": null, \"instrument_name\": null, \"topics_auto\": null, \"nearest_match_from_mhc_auto\": null}, {\"question_no\": \"2\", \"question_intro\": null, \"question_text\": \"Incapable d’arrêter de vous inquiéter ou de contrôler vos inquiétudes\", \"options\": [], \"source_page\": 0, \"instrument_id\": null, \"instrument_name\": null, \"topics_auto\": null, \"nearest_match_from_mhc_auto\": null}, {\"question_no\": \"3\", \"question_intro\": null, \"question_text\": \"Inquiétudes excessives à propos de tout et de rien\", \"options\": [], \"source_page\": 0, \"instrument_id\": null, \"instrument_name\": null, \"topics_auto\": null, \"nearest_match_from_mhc_auto\": null}, {\"question_no\": \"4\", \"question_intro\": null, \"question_text\": \"Difficulté à se détendre\", \"options\": [], \"source_page\": 0, \"instrument_id\": null, \"instrument_name\": null, \"topics_auto\": null, \"nearest_match_from_mhc_auto\": null}, {\"question_no\": \"5\", \"question_intro\": null, \"question_text\": \"Agitation telle qu’il est difficile de rester tranquille\", \"options\": [], \"source_page\": 0, \"instrument_id\": null, \"instrument_name\": null, \"topics_auto\": null, \"nearest_match_from_mhc_auto\": null}, {\"question_no\": \"6\", \"question_intro\": null, \"question_text\": \"Devenir facilement contrarié(e) ou irritable\", \"options\": [], \"source_page\": 0, \"instrument_id\": null, \"instrument_name\": null, \"topics_auto\": null, \"nearest_match_from_mhc_auto\": null}, {\"question_no\": \"7\", \"question_intro\": null, \"question_text\": \"Avoir peur que quelque chose d’épouvantable puisse arriver\", \"options\": [], \"source_page\": 0, \"instrument_id\": null, \"instrument_name\": null, \"topics_auto\": null, \"nearest_match_from_mhc_auto\": null}]},\n",
      "{\"file_id\": \"0436e73aa88d4c12b8fa59b17f022459\", \"instrument_id\": \"3dea9a70894e4dd688dff9f43c243660\", \"instrument_name\": \"GAD-7 German\", \"file_name\": \"GAD-7 German.pdf\", \"file_type\": null, \"file_section\": null, \"study\": null, \"sweep\": null, \"metadata\": null, \"language\": \"en\", \"questions\": [{\"question_no\": \"1\", \"question_intro\": null, \"question_text\": \"Nervosität, Ängstlichkeit oder Anspannung\", \"options\": [], \"source_page\": 0, \"instrument_id\": null, \"instrument_name\": null, \"topics_auto\": null, \"nearest_match_from_mhc_auto\": null}, {\"question_no\": \"2\", \"question_intro\": null, \"question_text\": \"Nicht in der Lage sein, Sorgen zu stoppen oder zu kontrollieren\", \"options\": [], \"source_page\": 0, \"instrument_id\": null, \"instrument_name\": null, \"topics_auto\": null, \"nearest_match_from_mhc_auto\": null}, {\"question_no\": \"3\", \"question_intro\": null, \"question_text\": \"Übermäßige Sorgen bezüglich verschiedener Angelegenheiten\", \"options\": [], \"source_page\": 0, \"instrument_id\": null, \"instrument_name\": null, \"topics_auto\": null, \"nearest_match_from_mhc_auto\": null}, {\"question_no\": \"4\", \"question_intro\": null, \"question_text\": \"Schwierigkeiten zu entspannen\", \"options\": [], \"source_page\": 0, \"instrument_id\": null, \"instrument_name\": null, \"topics_auto\": null, \"nearest_match_from_mhc_auto\": null}, {\"question_no\": \"5\", \"question_intro\": null, \"question_text\": \"Rastlosigkeit, so dass Stillsitzen schwer fällt\", \"options\": [], \"source_page\": 0, \"instrument_id\": null, \"instrument_name\": null, \"topics_auto\": null, \"nearest_match_from_mhc_auto\": null}, {\"question_no\": \"6\", \"question_intro\": null, \"question_text\": \"Schnelle Verärgerung oder Gereiztheit\", \"options\": [], \"source_page\": 0, \"instrument_id\": null, \"instrument_name\": null, \"topics_auto\": null, \"nearest_match_from_mhc_auto\": null}, {\"question_no\": \"7\", \"question_intro\": null, \"question_text\": \"Gefühl der Angst, so als würde etwas Schlimmes passieren\", \"options\": [], \"source_page\": 0, \"instrument_id\": null, \"instrument_name\": null, \"topics_auto\": null, \"nearest_match_from_mhc_auto\": null}]},\n",
      "{\"file_id\": \"a80be70678714de496cff669854d6a71\", \"instrument_id\": \"5185779676834a06ab61da0b21942331\", \"instrument_name\": \"GAD-7 Spanish\", \"file_name\": \"GAD-7 Spanish.pdf\", \"file_type\": null, \"file_section\": null, \"study\": null, \"sweep\": null, \"metadata\": null, \"language\": \"en\", \"questions\": [{\"question_no\": \"1\", \"question_intro\": null, \"question_text\": \"Sentirse nervioso/a, intranquilo/a o con los nervios de punta\", \"options\": [], \"source_page\": 0, \"instrument_id\": null, \"instrument_name\": null, \"topics_auto\": null, \"nearest_match_from_mhc_auto\": null}, {\"question_no\": \"2\", \"question_intro\": null, \"question_text\": \"No poder dejar de preocuparse o no poder controlar la preocupación\", \"options\": [], \"source_page\": 0, \"instrument_id\": null, \"instrument_name\": null, \"topics_auto\": null, \"nearest_match_from_mhc_auto\": null}, {\"question_no\": \"3\", \"question_intro\": null, \"question_text\": \"Preocuparse demasiado por diferentes cosas\", \"options\": [], \"source_page\": 0, \"instrument_id\": null, \"instrument_name\": null, \"topics_auto\": null, \"nearest_match_from_mhc_auto\": null}, {\"question_no\": \"4\", \"question_intro\": null, \"question_text\": \"Dificultad para relajarse\", \"options\": [], \"source_page\": 0, \"instrument_id\": null, \"instrument_name\": null, \"topics_auto\": null, \"nearest_match_from_mhc_auto\": null}, {\"question_no\": \"5\", \"question_intro\": null, \"question_text\": \"Estar tan inquieto/a que es difícil permanecer sentado/a tranquilamente\", \"options\": [], \"source_page\": 0, \"instrument_id\": null, \"instrument_name\": null, \"topics_auto\": null, \"nearest_match_from_mhc_auto\": null}, {\"question_no\": \"6\", \"question_intro\": null, \"question_text\": \"Molestarse o ponerse irritable fácilmente\", \"options\": [], \"source_page\": 0, \"instrument_id\": null, \"instrument_name\": null, \"topics_auto\": null, \"nearest_match_from_mhc_auto\": null}, {\"question_no\": \"7\", \"question_intro\": null, \"question_text\": \"Sentir miedo como si algo terrible pudiera pasar\", \"options\": [], \"source_page\": 0, \"instrument_id\": null, \"instrument_name\": null, \"topics_auto\": null, \"nearest_match_from_mhc_auto\": null}]},\n",
      "{\"file_id\": \"6df1e57aa2744d05897c4aeb9eff8317\", \"instrument_id\": \"3a81c8b0b3544997bbe2ef8d7082b6d9\", \"instrument_name\": \"GAD-7 Russian\", \"file_name\": \"GAD-7 Russian.pdf\", \"file_type\": null, \"file_section\": null, \"study\": null, \"sweep\": null, \"metadata\": null, \"language\": \"en\", \"questions\": [{\"question_no\": \"1\", \"question_intro\": null, \"question_text\": \"Вы нервничали, тревожились или испытывали сильный стресс\", \"options\": [], \"source_page\": 0, \"instrument_id\": null, \"instrument_name\": null, \"topics_auto\": null, \"nearest_match_from_mhc_auto\": null}, {\"question_no\": \"2\", \"question_intro\": null, \"question_text\": \"Вы были неспособны успокоиться или контролировать свое волнение\", \"options\": [], \"source_page\": 0, \"instrument_id\": null, \"instrument_name\": null, \"topics_auto\": null, \"nearest_match_from_mhc_auto\": null}, {\"question_no\": \"3\", \"question_intro\": null, \"question_text\": \"Вы слишком сильно волновались по различным поводам\", \"options\": [], \"source_page\": 0, \"instrument_id\": null, \"instrument_name\": null, \"topics_auto\": null, \"nearest_match_from_mhc_auto\": null}, {\"question_no\": \"4\", \"question_intro\": null, \"question_text\": \"Вам было трудно расслабиться\", \"options\": [], \"source_page\": 0, \"instrument_id\": null, \"instrument_name\": null, \"topics_auto\": null, \"nearest_match_from_mhc_auto\": null}, {\"question_no\": \"5\", \"question_intro\": null, \"question_text\": \"Вы были настолько суетливы, что Вам было тяжело усидеть на месте\", \"options\": [], \"source_page\": 0, \"instrument_id\": null, \"instrument_name\": null, \"topics_auto\": null, \"nearest_match_from_mhc_auto\": null}, {\"question_no\": \"6\", \"question_intro\": null, \"question_text\": \"Вы легко злились или раздражались\", \"options\": [], \"source_page\": 0, \"instrument_id\": null, \"instrument_name\": null, \"topics_auto\": null, \"nearest_match_from_mhc_auto\": null}, {\"question_no\": \"7\", \"question_intro\": null, \"question_text\": \"Вы испытывали страх, словно должно произойти нечто ужасное\", \"options\": [], \"source_page\": 0, \"instrument_id\": null, \"instrument_name\": null, \"topics_auto\": null, \"nearest_match_from_mhc_auto\": null}]},\n",
      "{\"file_id\": \"df936741d9594b9b830fdc96795a22eb\", \"instrument_id\": \"db2a76e09e6b40919076908aaf8fc004\", \"instrument_name\": \"GAD-7 Chinese\", \"file_name\": \"GAD-7 Chinese.pdf\", \"file_type\": null, \"file_section\": null, \"study\": null, \"sweep\": null, \"metadata\": null, \"language\": \"en\", \"questions\": [{\"question_no\": \"1\", \"question_intro\": null, \"question_text\": \"感觉紧张、焦虑或不安\", \"options\": [], \"source_page\": 0, \"instrument_id\": null, \"instrument_name\": null, \"topics_auto\": null, \"nearest_match_from_mhc_auto\": null}, {\"question_no\": \"2\", \"question_intro\": null, \"question_text\": \"无法停止或控制担忧\", \"options\": [], \"source_page\": 0, \"instrument_id\": null, \"instrument_name\": null, \"topics_auto\": null, \"nearest_match_from_mhc_auto\": null}, {\"question_no\": \"3\", \"question_intro\": null, \"question_text\": \"对各种事情担心太多 \", \"options\": [], \"source_page\": 0, \"instrument_id\": null, \"instrument_name\": null, \"topics_auto\": null, \"nearest_match_from_mhc_auto\": null}, {\"question_no\": \"4\", \"question_intro\": null, \"question_text\": \"难以放松 \", \"options\": [], \"source_page\": 0, \"instrument_id\": null, \"instrument_name\": null, \"topics_auto\": null, \"nearest_match_from_mhc_auto\": null}, {\"question_no\": \"5\", \"question_intro\": null, \"question_text\": \"坐立不安，以至于很难安静地坐下来\", \"options\": [], \"source_page\": 0, \"instrument_id\": null, \"instrument_name\": null, \"topics_auto\": null, \"nearest_match_from_mhc_auto\": null}, {\"question_no\": \"6\", \"question_intro\": null, \"question_text\": \"变得容易生气或急躁 \", \"options\": [], \"source_page\": 0, \"instrument_id\": null, \"instrument_name\": null, \"topics_auto\": null, \"nearest_match_from_mhc_auto\": null}, {\"question_no\": \"7\", \"question_intro\": null, \"question_text\": \"感觉害怕，好像有可怕的事情要发生一样\", \"options\": [], \"source_page\": 0, \"instrument_id\": null, \"instrument_name\": null, \"topics_auto\": null, \"nearest_match_from_mhc_auto\": null}]},\n",
      "{\"file_id\": \"7e822445567f4747abc91538770e8fec\", \"instrument_id\": \"0dda24941e6143819d5ca9556ca75e76\", \"instrument_name\": \"GAD-7 Afrikaans\", \"file_name\": \"GAD-7 Afrikaans.pdf\", \"file_type\": null, \"file_section\": null, \"study\": null, \"sweep\": null, \"metadata\": null, \"language\": \"en\", \"questions\": [{\"question_no\": \"1\", \"question_intro\": null, \"question_text\": \"Senuagtig, angstig of gespanne gevoel\", \"options\": [], \"source_page\": 0, \"instrument_id\": null, \"instrument_name\": null, \"topics_auto\": null, \"nearest_match_from_mhc_auto\": null}, {\"question_no\": \"2\", \"question_intro\": null, \"question_text\": \"Kon nie ophou om bekommerd te wees nie\", \"options\": [], \"source_page\": 0, \"instrument_id\": null, \"instrument_name\": null, \"topics_auto\": null, \"nearest_match_from_mhc_auto\": null}, {\"question_no\": \"3\", \"question_intro\": null, \"question_text\": \"Oormatig bekommerd oor verskillende goed\", \"options\": [], \"source_page\": 0, \"instrument_id\": null, \"instrument_name\": null, \"topics_auto\": null, \"nearest_match_from_mhc_auto\": null}, {\"question_no\": \"4\", \"question_intro\": null, \"question_text\": \"Sukkel om te ontspan\", \"options\": [], \"source_page\": 0, \"instrument_id\": null, \"instrument_name\": null, \"topics_auto\": null, \"nearest_match_from_mhc_auto\": null}, {\"question_no\": \"5\", \"question_intro\": null, \"question_text\": \"Só rusteloos dat dit moeilik is om stil te sit\", \"options\": [], \"source_page\": 0, \"instrument_id\": null, \"instrument_name\": null, \"topics_auto\": null, \"nearest_match_from_mhc_auto\": null}, {\"question_no\": \"6\", \"question_intro\": null, \"question_text\": \"Raak maklik vies of geïrriteerd\", \"options\": [], \"source_page\": 0, \"instrument_id\": null, \"instrument_name\": null, \"topics_auto\": null, \"nearest_match_from_mhc_auto\": null}, {\"question_no\": \"7\", \"question_intro\": null, \"question_text\": \"Voel bang asof iets aakligs kan gebeur \", \"options\": [], \"source_page\": 0, \"instrument_id\": null, \"instrument_name\": null, \"topics_auto\": null, \"nearest_match_from_mhc_auto\": null}]},\n",
      "{\"file_id\": \"3344cca24ec54cb49a65e3531ee96b77\", \"instrument_id\": \"46113e70940540d29d5bbd9d7210286f\", \"instrument_name\": \"GAD-7 Cebuano\", \"file_name\": \"GAD-7 Cebuano.pdf\", \"file_type\": null, \"file_section\": null, \"study\": null, \"sweep\": null, \"metadata\": null, \"language\": \"en\", \"questions\": [{\"question_no\": \"1\", \"question_intro\": null, \"question_text\": \"Gibati og nerbiyos, kabalaka, o kahadlok\", \"options\": [], \"source_page\": 0, \"instrument_id\": null, \"instrument_name\": null, \"topics_auto\": null, \"nearest_match_from_mhc_auto\": null}, {\"question_no\": \"2\", \"question_intro\": null, \"question_text\": \"Dili makahunong o makakontrol sa pagkabalaka\", \"options\": [], \"source_page\": 0, \"instrument_id\": null, \"instrument_name\": null, \"topics_auto\": null, \"nearest_match_from_mhc_auto\": null}, {\"question_no\": \"3\", \"question_intro\": null, \"question_text\": \"Sobra nga nabalaka bahin sa lain-lain nga mga butang\", \"options\": [], \"source_page\": 0, \"instrument_id\": null, \"instrument_name\": null, \"topics_auto\": null, \"nearest_match_from_mhc_auto\": null}, {\"question_no\": \"4\", \"question_intro\": null, \"question_text\": \"Lisod pagkalma\", \"options\": [], \"source_page\": 0, \"instrument_id\": null, \"instrument_name\": null, \"topics_auto\": null, \"nearest_match_from_mhc_auto\": null}, {\"question_no\": \"5\", \"question_intro\": null, \"question_text\": \"Nag-alindasay pag-ayo nga lisod pagpabilin nga maglingkod\", \"options\": [], \"source_page\": 0, \"instrument_id\": null, \"instrument_name\": null, \"topics_auto\": null, \"nearest_match_from_mhc_auto\": null}, {\"question_no\": \"6\", \"question_intro\": null, \"question_text\": \"Nahimong dali maglagot o iritable\", \"options\": [], \"source_page\": 0, \"instrument_id\": null, \"instrument_name\": null, \"topics_auto\": null, \"nearest_match_from_mhc_auto\": null}, {\"question_no\": \"7\", \"question_intro\": null, \"question_text\": \"Nahadlok nga basin naay dautan nga mahitabo \", \"options\": [], \"source_page\": 0, \"instrument_id\": null, \"instrument_name\": null, \"topics_auto\": null, \"nearest_match_from_mhc_auto\": null}]},\n",
      "{\"file_id\": \"72a76be9416647c5adf3ec3a8cac0fb0\", \"instrument_id\": \"5bd3b3f355af4580ab58bc61db25c5e5\", \"instrument_name\": \"GAD-7 Kannada\", \"file_name\": \"GAD-7 Kannada.pdf\", \"file_type\": null, \"file_section\": null, \"study\": null, \"sweep\": null, \"metadata\": null, \"language\": \"en\", \"questions\": [{\"question_no\": \"1\", \"question_intro\": null, \"question_text\": \"ತಳಮಳ, ಆತಂಕ ಅಥ ಾ ಬಹಳ ΅ಾತರದ ಅನುಭವ\", \"options\": [], \"source_page\": 0, \"instrument_id\": null, \"instrument_name\": null, \"topics_auto\": null, \"nearest_match_from_mhc_auto\": null}, {\"question_no\": \"2\", \"question_intro\": null, \"question_text\": \"‷ಂ⁀ಸುವ⁳ದನುΊ ⁄⁌ῤಸಲು ಅಥ ಾ ⁄ಯಂ⁀ῢಸಲು ಧῡ ಾಗ⁂ರುವ⁳ದು\", \"options\": [], \"source_page\": 0, \"instrument_id\": null, \"instrument_name\": null, \"topics_auto\": null, \"nearest_match_from_mhc_auto\": null}, {\"question_no\": \"3\", \"question_intro\": null, \"question_text\": \"⁧ೕ⁫ ⁧ೕ⁫ ⁎ಷಯಗಳ ಬ⁕Ὴ ಅ⁀ ಾ‵ ‷ಂ⁀ಸುವ⁳ದು\", \"options\": [], \"source_page\": 0, \"instrument_id\": null, \"instrument_name\": null, \"topics_auto\": null, \"nearest_match_from_mhc_auto\": null}, {\"question_no\": \"4\", \"question_intro\": null, \"question_text\": \"⁄ ಾಳ ಾ‵ರಲು ⁠ೂಂದ⁫\", \"options\": [], \"source_page\": 0, \"instrument_id\": null, \"instrument_name\": null, \"topics_auto\": null, \"nearest_match_from_mhc_auto\": null}, {\"question_no\": \"5\", \"question_intro\": null, \"question_text\": \"ಒಂದು ಕ⁝ ⁑Ῐರ ಾ‵ ಕು⁍ತು⁓ೂಳῥಲೂ ಆಗದಷುῒ ಚಡಪ‽ಸುವ⁳ದು\", \"options\": [], \"source_page\": 0, \"instrument_id\": null, \"instrument_name\": null, \"topics_auto\": null, \"nearest_match_from_mhc_auto\": null}, {\"question_no\": \"6\", \"question_intro\": null, \"question_text\": \"ಸುಲಭ ಾ‵ ⁓ೂೕಪ⁕ೂಳುῥವ⁳ದು ಅಥ ಾ ″⁋″⁋ ಾಗುವ⁳ದು\", \"options\": [], \"source_page\": 0, \"instrument_id\": null, \"instrument_name\": null, \"topics_auto\": null, \"nearest_match_from_mhc_auto\": null}, {\"question_no\": \"7\", \"question_intro\": null, \"question_text\": \"ಏ῿ಾದರೂ ಅ῿ಾಹುತ ಸಂಭ⁎ಸುತῗ⁢ ಎಂದು ⁲ದರುವ⁳ದು\", \"options\": [], \"source_page\": 0, \"instrument_id\": null, \"instrument_name\": null, \"topics_auto\": null, \"nearest_match_from_mhc_auto\": null}]},\n",
      "{\"file_id\": \"84356063eceb408aabdacbe509d7ae8f\", \"instrument_id\": \"f768d36f6de74c3bae1eb96abd251172\", \"instrument_name\": \"GAD-7 Hebrew\", \"file_name\": \"GAD-7 Hebrew.pdf\", \"file_type\": null, \"file_section\": null, \"study\": null, \"sweep\": null, \"metadata\": null, \"language\": \"en\", \"questions\": [{\"question_no\": \"1\", \"question_intro\": null, \"question_text\": \"הרגשתי עצבני, חרד או מתוח מאוד\", \"options\": [], \"source_page\": 0, \"instrument_id\": null, \"instrument_name\": null, \"topics_auto\": null, \"nearest_match_from_mhc_auto\": null}, {\"question_no\": \"2\", \"question_intro\": null, \"question_text\": \"לא הייתי מסוגל להפסיק לדאוג או לשלוט בדאגה\", \"options\": [], \"source_page\": 0, \"instrument_id\": null, \"instrument_name\": null, \"topics_auto\": null, \"nearest_match_from_mhc_auto\": null}, {\"question_no\": \"3\", \"question_intro\": null, \"question_text\": \"הייתי מודאג יותר מידי בנוגע לדברים שונים\", \"options\": [], \"source_page\": 0, \"instrument_id\": null, \"instrument_name\": null, \"topics_auto\": null, \"nearest_match_from_mhc_auto\": null}, {\"question_no\": \"4\", \"question_intro\": null, \"question_text\": \"התקשיתי להירגע\", \"options\": [], \"source_page\": 0, \"instrument_id\": null, \"instrument_name\": null, \"topics_auto\": null, \"nearest_match_from_mhc_auto\": null}, {\"question_no\": \"5\", \"question_intro\": null, \"question_text\": \"הייתי כל כך חסר מנוחה שהיה לי קשה לשבת מבלי לנוע\", \"options\": [], \"source_page\": 0, \"instrument_id\": null, \"instrument_name\": null, \"topics_auto\": null, \"nearest_match_from_mhc_auto\": null}, {\"question_no\": \"6\", \"question_intro\": null, \"question_text\": \"הייתי מתעצבן או מתרגז בקלות\", \"options\": [], \"source_page\": 0, \"instrument_id\": null, \"instrument_name\": null, \"topics_auto\": null, \"nearest_match_from_mhc_auto\": null}, {\"question_no\": \"7\", \"question_intro\": null, \"question_text\": \"פחדתי כאילו משהו נורא עלול לקרות\", \"options\": [], \"source_page\": 0, \"instrument_id\": null, \"instrument_name\": null, \"topics_auto\": null, \"nearest_match_from_mhc_auto\": null}]},\n",
      "{\"file_id\": \"bf710b38b5d44e499da67e3dc57a33d6\", \"instrument_id\": \"60526c9e762a40ac8e4ddefe8c98a74e\", \"instrument_name\": \"GAD-7 Norwegian\", \"file_name\": \"GAD-7 Norwegian.pdf\", \"file_type\": null, \"file_section\": null, \"study\": null, \"sweep\": null, \"metadata\": null, \"language\": \"en\", \"questions\": [{\"question_no\": \"1\", \"question_intro\": null, \"question_text\": \"Følt deg nervøs, engstelig eller veldig stresset\", \"options\": [], \"source_page\": 0, \"instrument_id\": null, \"instrument_name\": null, \"topics_auto\": null, \"nearest_match_from_mhc_auto\": null}, {\"question_no\": \"2\", \"question_intro\": null, \"question_text\": \"Ikke klart å slutte å bekymre deg eller kontrolleren bekymringene dine\", \"options\": [], \"source_page\": 0, \"instrument_id\": null, \"instrument_name\": null, \"topics_auto\": null, \"nearest_match_from_mhc_auto\": null}, {\"question_no\": \"3\", \"question_intro\": null, \"question_text\": \"Bekymret deg for mye om ulike ting\", \"options\": [], \"source_page\": 0, \"instrument_id\": null, \"instrument_name\": null, \"topics_auto\": null, \"nearest_match_from_mhc_auto\": null}, {\"question_no\": \"4\", \"question_intro\": null, \"question_text\": \"Vansker med å slappe av\", \"options\": [], \"source_page\": 0, \"instrument_id\": null, \"instrument_name\": null, \"topics_auto\": null, \"nearest_match_from_mhc_auto\": null}, {\"question_no\": \"5\", \"question_intro\": null, \"question_text\": \"Vært så rastløs at det har vært vanskelig å sitte stille\", \"options\": [], \"source_page\": 0, \"instrument_id\": null, \"instrument_name\": null, \"topics_auto\": null, \"nearest_match_from_mhc_auto\": null}, {\"question_no\": \"6\", \"question_intro\": null, \"question_text\": \"Blitt lett sint eller irritert\", \"options\": [], \"source_page\": 0, \"instrument_id\": null, \"instrument_name\": null, \"topics_auto\": null, \"nearest_match_from_mhc_auto\": null}, {\"question_no\": \"7\", \"question_intro\": null, \"question_text\": \"Følt deg redd som om noe forferdelig kunne komme til å skje\", \"options\": [], \"source_page\": 0, \"instrument_id\": null, \"instrument_name\": null, \"topics_auto\": null, \"nearest_match_from_mhc_auto\": null}]},\n"
     ]
    }
   ],
   "source": [
    "import uuid\n",
    "\n",
    "from harmony.schemas.requests.text import Instrument, Question\n",
    "for lang, text in other_langs.items():\n",
    "    \n",
    "    if lang == \"ceb\":\n",
    "        lllnnn = \"Cebuano\"\n",
    "    else:\n",
    "        lllnnn = languages.get(alpha2= lang).name\n",
    "    instrn = \"GAD-7 \" + lllnnn\n",
    "    \n",
    "    questions = []\n",
    "    for qno, line in enumerate(text.split(\"\\n\")):\n",
    "        questions.append(Question(question_text=line, question_no = str(qno+1)))\n",
    "    instr = Instrument(questions=questions, instrument_name=instrn, file_id=uuid.uuid4().hex, instrument_id=uuid.uuid4().hex ,\n",
    "                      file_name = instrn + \".pdf\"\n",
    "                      )\n",
    "    instruments.append(instr)\n",
    "    print (json.dumps(instr.dict(), ensure_ascii=False) +\",\")"
   ]
  },
  {
   "cell_type": "code",
   "execution_count": 12,
   "id": "219e1f88",
   "metadata": {},
   "outputs": [
    {
     "data": {
      "text/plain": [
       "'{\"file_id\": null, \"instrument_id\": null, \"instrument_name\": \"no\", \"file_name\": \"Untitled file\", \"file_type\": null, \"file_section\": null, \"study\": null, \"sweep\": null, \"metadata\": null, \"language\": \"en\", \"questions\": [{\"question_no\": null, \"question_intro\": null, \"question_text\": \"F\\\\u00f8lt deg nerv\\\\u00f8s, engstelig eller veldig stresset\", \"options\": [], \"source_page\": 0, \"instrument_id\": null, \"instrument_name\": null, \"topics_auto\": null, \"nearest_match_from_mhc_auto\": null}, {\"question_no\": null, \"question_intro\": null, \"question_text\": \"Ikke klart \\\\u00e5 slutte \\\\u00e5 bekymre deg eller kontrolleren bekymringene dine\", \"options\": [], \"source_page\": 0, \"instrument_id\": null, \"instrument_name\": null, \"topics_auto\": null, \"nearest_match_from_mhc_auto\": null}, {\"question_no\": null, \"question_intro\": null, \"question_text\": \"Bekymret deg for mye om ulike ting\", \"options\": [], \"source_page\": 0, \"instrument_id\": null, \"instrument_name\": null, \"topics_auto\": null, \"nearest_match_from_mhc_auto\": null}, {\"question_no\": null, \"question_intro\": null, \"question_text\": \"Vansker med \\\\u00e5 slappe av\", \"options\": [], \"source_page\": 0, \"instrument_id\": null, \"instrument_name\": null, \"topics_auto\": null, \"nearest_match_from_mhc_auto\": null}, {\"question_no\": null, \"question_intro\": null, \"question_text\": \"V\\\\u00e6rt s\\\\u00e5 rastl\\\\u00f8s at det har v\\\\u00e6rt vanskelig \\\\u00e5 sitte stille\", \"options\": [], \"source_page\": 0, \"instrument_id\": null, \"instrument_name\": null, \"topics_auto\": null, \"nearest_match_from_mhc_auto\": null}, {\"question_no\": null, \"question_intro\": null, \"question_text\": \"Blitt lett sint eller irritert\", \"options\": [], \"source_page\": 0, \"instrument_id\": null, \"instrument_name\": null, \"topics_auto\": null, \"nearest_match_from_mhc_auto\": null}, {\"question_no\": null, \"question_intro\": null, \"question_text\": \"F\\\\u00f8lt deg redd som om noe forferdelig kunne komme til \\\\u00e5 skje\", \"options\": [], \"source_page\": 0, \"instrument_id\": null, \"instrument_name\": null, \"topics_auto\": null, \"nearest_match_from_mhc_auto\": null}]}'"
      ]
     },
     "execution_count": 12,
     "metadata": {},
     "output_type": "execute_result"
    }
   ],
   "source": [
    "import json\n"
   ]
  },
  {
   "cell_type": "code",
   "execution_count": 5,
   "id": "cf2800c4",
   "metadata": {},
   "outputs": [],
   "source": [
    "for i in instruments:\n",
    "    if len(i.questions) > 7:\n",
    "        i.questions = i.questions[:7]"
   ]
  },
  {
   "cell_type": "code",
   "execution_count": null,
   "id": "656a59ac",
   "metadata": {},
   "outputs": [],
   "source": []
  },
  {
   "cell_type": "code",
   "execution_count": 6,
   "id": "1af7c48a",
   "metadata": {},
   "outputs": [],
   "source": [
    "from harmony import match_instruments"
   ]
  },
  {
   "cell_type": "code",
   "execution_count": 7,
   "id": "076ea48c",
   "metadata": {},
   "outputs": [],
   "source": [
    "questions, similarity, query_similarity, new_vectors_dict = match_instruments(instruments)"
   ]
  },
  {
   "cell_type": "code",
   "execution_count": 8,
   "id": "348a0019",
   "metadata": {},
   "outputs": [
    {
     "data": {
      "text/plain": [
       "7"
      ]
     },
     "execution_count": 8,
     "metadata": {},
     "output_type": "execute_result"
    }
   ],
   "source": [
    "len(instruments[0].questions)"
   ]
  },
  {
   "cell_type": "code",
   "execution_count": 9,
   "id": "a9c8743b",
   "metadata": {},
   "outputs": [
    {
     "name": "stdout",
     "output_type": "stream",
     "text": [
      "7\n",
      "7\n",
      "7\n",
      "7\n",
      "7\n",
      "7\n",
      "7\n",
      "7\n",
      "7\n",
      "7\n",
      "7\n",
      "7\n"
     ]
    }
   ],
   "source": [
    "len(instruments)\n",
    "for i in instruments:\n",
    "    print (len(i.questions))"
   ]
  },
  {
   "cell_type": "code",
   "execution_count": 10,
   "id": "2f1156d3",
   "metadata": {},
   "outputs": [
    {
     "name": "stdout",
     "output_type": "stream",
     "text": [
      "English to  GAD-7 Portuguese 1.0\n",
      "English to  fr 0.9863945578231292\n",
      "English to  de 0.9863945578231292\n",
      "English to  es 0.9659863945578231\n",
      "English to  ru 0.9863945578231292\n",
      "English to  zh 1.0\n",
      "English to  af 0.8707482993197279\n",
      "English to  ceb 0.5442176870748299\n",
      "English to  kn 0.3945578231292517\n",
      "English to  he 1.0\n",
      "English to  no 0.8571428571428571\n"
     ]
    }
   ],
   "source": [
    "from sklearn.metrics import roc_auc_score\n",
    "\n",
    "for lang_id in range(1, len(instruments)):\n",
    "    similarities = []\n",
    "    ground_truths = []\n",
    "    \n",
    "    for i in range(7):\n",
    "        for j in range(7):\n",
    "            if i <= j:\n",
    "                similarities.append(similarity[i,7*lang_id + j])\n",
    "                ground_truths.append(int(i==j))\n",
    "                \n",
    "    print (\"English to \", instruments[lang_id].instrument_name, roc_auc_score(ground_truths, similarities))"
   ]
  },
  {
   "cell_type": "markdown",
   "id": "6f1e2595",
   "metadata": {},
   "source": [
    "        Blog post\n",
    "        \n",
    "        \n",
    "        # Harmony can handle at least 8 languages\n",
    "        \n",
    "        I evaluated Harmony's ability to match the GAD-7 in 11 languages to the English version.\n",
    "        \n",
    "        I found that Harmony was able to achieve >95% AUC for 7 of the 11 non-English languages."
   ]
  },
  {
   "cell_type": "code",
   "execution_count": null,
   "id": "5770ac4b",
   "metadata": {},
   "outputs": [],
   "source": []
  }
 ],
 "metadata": {
  "kernelspec": {
   "display_name": "Python 3 (ipykernel)",
   "language": "python",
   "name": "python3"
  },
  "language_info": {
   "codemirror_mode": {
    "name": "ipython",
    "version": 3
   },
   "file_extension": ".py",
   "mimetype": "text/x-python",
   "name": "python",
   "nbconvert_exporter": "python",
   "pygments_lexer": "ipython3",
   "version": "3.11.3"
  }
 },
 "nbformat": 4,
 "nbformat_minor": 5
}
