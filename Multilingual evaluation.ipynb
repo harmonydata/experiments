{
 "cells": [
  {
   "cell_type": "markdown",
   "id": "bc96442e",
   "metadata": {},
   "source": [
    "# Evaluate Harmony against other languages"
   ]
  },
  {
   "cell_type": "code",
   "execution_count": 1,
   "id": "42666352",
   "metadata": {},
   "outputs": [],
   "source": [
    "import harmony"
   ]
  },
  {
   "cell_type": "code",
   "execution_count": 2,
   "id": "73ee2ec8",
   "metadata": {},
   "outputs": [],
   "source": [
    "instruments = [harmony.example_instruments['GAD-7 English'], harmony.example_instruments['GAD-7 Portuguese']]"
   ]
  },
  {
   "cell_type": "code",
   "execution_count": 3,
   "id": "cbdf0c20",
   "metadata": {},
   "outputs": [],
   "source": [
    "other_langs = {\"fr\":\"\"\"Sentiment de nervosité, d’anxiété ou de tension\n",
    "Incapable d’arrêter de vous inquiéter ou de contrôler vos inquiétudes\n",
    "Inquiétudes excessives à propos de tout et de rien\n",
    "Difficulté à se détendre\n",
    "Agitation telle qu’il est difficile de rester tranquille\n",
    "Devenir facilement contrarié(e) ou irritable\n",
    "Avoir peur que quelque chose d’épouvantable puisse arriver\"\"\",\n",
    "\"de\":\"\"\"Nervosität, Ängstlichkeit oder Anspannung\n",
    "Nicht in der Lage sein, Sorgen zu stoppen oder zu kontrollieren\n",
    "Übermäßige Sorgen bezüglich verschiedener Angelegenheiten\n",
    "Schwierigkeiten zu entspannen\n",
    "Rastlosigkeit, so dass Stillsitzen schwer fällt\n",
    "Schnelle Verärgerung oder Gereiztheit\n",
    "Gefühl der Angst, so als würde etwas Schlimmes passieren\"\"\",\n",
    "              \"de\":\"\"\"Nervosität, Ängstlichkeit oder Anspannung\n",
    "Nicht in der Lage sein, Sorgen zu stoppen oder zu kontrollieren\n",
    "Übermäßige Sorgen bezüglich verschiedener Angelegenheiten\n",
    "Schwierigkeiten zu entspannen\n",
    "Rastlosigkeit, so dass Stillsitzen schwer fällt\n",
    "Schnelle Verärgerung oder Gereiztheit\n",
    "Gefühl der Angst, so als würde etwas Schlimmes passieren\"\"\",\n",
    "              \"es\":\"\"\"Sentirse nervioso/a, intranquilo/a o con los nervios de punta\n",
    "No poder dejar de preocuparse o no poder controlar la preocupación\n",
    "Preocuparse demasiado por diferentes cosas\n",
    "Dificultad para relajarse\n",
    "Estar tan inquieto/a que es difícil permanecer sentado/a tranquilamente\n",
    "Molestarse o ponerse irritable fácilmente\n",
    "Sentir miedo como si algo terrible pudiera pasar\"\"\",\n",
    "              \"ru\":\"\"\"Вы нервничали, тревожились или испытывали сильный стресс\n",
    "Вы были неспособны успокоиться или контролировать свое волнение\n",
    "Вы слишком сильно волновались по различным поводам\n",
    "Вам было трудно расслабиться\n",
    "Вы были настолько суетливы, что Вам было тяжело усидеть на месте\n",
    "Вы легко злились или раздражались\n",
    "Вы испытывали страх, словно должно произойти нечто ужасное\"\"\",\n",
    "              \"zh\":\"\"\"感觉紧张、焦虑或不安\n",
    "无法停止或控制担忧\n",
    "对各种事情担心太多 \n",
    "难以放松 \n",
    "坐立不安，以至于很难安静地坐下来\n",
    "变得容易生气或急躁 \n",
    "感觉害怕，好像有可怕的事情要发生一样\"\"\",\n",
    "              \"af\":\"\"\"Senuagtig, angstig of gespanne gevoel\n",
    "Kon nie ophou om bekommerd te wees nie\n",
    "Oormatig bekommerd oor verskillende goed\n",
    "Sukkel om te ontspan\n",
    "Só rusteloos dat dit moeilik is om stil te sit\n",
    "Raak maklik vies of geïrriteerd\n",
    "Voel bang asof iets aakligs kan gebeur \"\"\",\n",
    "              \"ceb\":\"\"\"Gibati og nerbiyos, kabalaka, o kahadlok\n",
    "Dili makahunong o makakontrol sa pagkabalaka\n",
    "Sobra nga nabalaka bahin sa lain-lain nga mga butang\n",
    "Lisod pagkalma\n",
    "Nag-alindasay pag-ayo nga lisod pagpabilin nga maglingkod\n",
    "Nahimong dali maglagot o iritable\n",
    "Nahadlok nga basin naay dautan nga mahitabo \"\"\",\n",
    "              \"kn\":\"\"\"ತಳಮಳ, ಆತಂಕ ಅಥ ಾ ಬಹಳ ΅ಾತರದ ಅನುಭವ\n",
    "‷ಂ⁀ಸುವ⁳ದನುΊ ⁄⁌ῤಸಲು ಅಥ ಾ ⁄ಯಂ⁀ῢಸಲು ಧῡ ಾಗ⁂ರುವ⁳ದು\n",
    "⁧ೕ⁫ ⁧ೕ⁫ ⁎ಷಯಗಳ ಬ⁕Ὴ ಅ⁀ ಾ‵ ‷ಂ⁀ಸುವ⁳ದು\n",
    "⁄ ಾಳ ಾ‵ರಲು ⁠ೂಂದ⁫\n",
    "ಒಂದು ಕ⁝ ⁑Ῐರ ಾ‵ ಕು⁍ತು⁓ೂಳῥಲೂ ಆಗದಷುῒ ಚಡಪ‽ಸುವ⁳ದು\n",
    "ಸುಲಭ ಾ‵ ⁓ೂೕಪ⁕ೂಳುῥವ⁳ದು ಅಥ ಾ ″⁋″⁋ ಾಗುವ⁳ದು\n",
    "ಏ῿ಾದರೂ ಅ῿ಾಹುತ ಸಂಭ⁎ಸುತῗ⁢ ಎಂದು ⁲ದರುವ⁳ದು\"\"\",\n",
    "              \"he\":\"\"\"הרגשתי עצבני, חרד או מתוח מאוד\n",
    "לא הייתי מסוגל להפסיק לדאוג או לשלוט בדאגה\n",
    "הייתי מודאג יותר מידי בנוגע לדברים שונים\n",
    "התקשיתי להירגע\n",
    "הייתי כל כך חסר מנוחה שהיה לי קשה לשבת מבלי לנוע\n",
    "הייתי מתעצבן או מתרגז בקלות\n",
    "פחדתי כאילו משהו נורא עלול לקרות\"\"\",\n",
    "              \"no\":\"\"\"Følt deg nervøs, engstelig eller veldig stresset\n",
    "Ikke klart å slutte å bekymre deg eller kontrolleren bekymringene dine\n",
    "Bekymret deg for mye om ulike ting\n",
    "Vansker med å slappe av\n",
    "Vært så rastløs at det har vært vanskelig å sitte stille\n",
    "Blitt lett sint eller irritert\n",
    "Følt deg redd som om noe forferdelig kunne komme til å skje\"\"\"}"
   ]
  },
  {
   "cell_type": "code",
   "execution_count": 4,
   "id": "6a6cb321",
   "metadata": {},
   "outputs": [],
   "source": [
    "from harmony.schemas.requests.text import Instrument, Question\n",
    "for lang, text in other_langs.items():\n",
    "    questions = []\n",
    "    for line in text.split(\"\\n\"):\n",
    "        questions.append(Question(question_text=line))\n",
    "    instr = Instrument(questions=questions, instrument_name=lang)\n",
    "    instruments.append(instr)"
   ]
  },
  {
   "cell_type": "code",
   "execution_count": 5,
   "id": "cf2800c4",
   "metadata": {},
   "outputs": [],
   "source": [
    "for i in instruments:\n",
    "    if len(i.questions) > 7:\n",
    "        i.questions = i.questions[:7]"
   ]
  },
  {
   "cell_type": "code",
   "execution_count": null,
   "id": "656a59ac",
   "metadata": {},
   "outputs": [],
   "source": []
  },
  {
   "cell_type": "code",
   "execution_count": 6,
   "id": "1af7c48a",
   "metadata": {},
   "outputs": [],
   "source": [
    "from harmony import match_instruments"
   ]
  },
  {
   "cell_type": "code",
   "execution_count": 7,
   "id": "076ea48c",
   "metadata": {},
   "outputs": [],
   "source": [
    "questions, similarity, query_similarity, new_vectors_dict = match_instruments(instruments)"
   ]
  },
  {
   "cell_type": "code",
   "execution_count": 8,
   "id": "348a0019",
   "metadata": {},
   "outputs": [
    {
     "data": {
      "text/plain": [
       "7"
      ]
     },
     "execution_count": 8,
     "metadata": {},
     "output_type": "execute_result"
    }
   ],
   "source": [
    "len(instruments[0].questions)"
   ]
  },
  {
   "cell_type": "code",
   "execution_count": 9,
   "id": "a9c8743b",
   "metadata": {},
   "outputs": [
    {
     "name": "stdout",
     "output_type": "stream",
     "text": [
      "7\n",
      "7\n",
      "7\n",
      "7\n",
      "7\n",
      "7\n",
      "7\n",
      "7\n",
      "7\n",
      "7\n",
      "7\n",
      "7\n"
     ]
    }
   ],
   "source": [
    "len(instruments)\n",
    "for i in instruments:\n",
    "    print (len(i.questions))"
   ]
  },
  {
   "cell_type": "code",
   "execution_count": 10,
   "id": "2f1156d3",
   "metadata": {},
   "outputs": [
    {
     "name": "stdout",
     "output_type": "stream",
     "text": [
      "English to  GAD-7 Portuguese 1.0\n",
      "English to  fr 0.9863945578231292\n",
      "English to  de 0.9863945578231292\n",
      "English to  es 0.9659863945578231\n",
      "English to  ru 0.9863945578231292\n",
      "English to  zh 1.0\n",
      "English to  af 0.8707482993197279\n",
      "English to  ceb 0.5442176870748299\n",
      "English to  kn 0.3945578231292517\n",
      "English to  he 1.0\n",
      "English to  no 0.8571428571428571\n"
     ]
    }
   ],
   "source": [
    "from sklearn.metrics import roc_auc_score\n",
    "\n",
    "for lang_id in range(1, len(instruments)):\n",
    "    similarities = []\n",
    "    ground_truths = []\n",
    "    \n",
    "    for i in range(7):\n",
    "        for j in range(7):\n",
    "            if i <= j:\n",
    "                similarities.append(similarity[i,7*lang_id + j])\n",
    "                ground_truths.append(int(i==j))\n",
    "                \n",
    "    print (\"English to \", instruments[lang_id].instrument_name, roc_auc_score(ground_truths, similarities))"
   ]
  },
  {
   "cell_type": "markdown",
   "id": "ddf9d328",
   "metadata": {},
   "source": [
    "        Blog post\n",
    "        \n",
    "        \n",
    "        # Harmony can handle at least 8 languages\n",
    "        \n",
    "        I evaluated Harmony's ability to match the GAD-7 in 11 languages to the English version.\n",
    "        \n",
    "        I found that Harmony was able to achieve >95% AUC for 7 of the 11 non-English languages."
   ]
  },
  {
   "cell_type": "code",
   "execution_count": null,
   "id": "da9aa43c",
   "metadata": {},
   "outputs": [],
   "source": []
  }
 ],
 "metadata": {
  "kernelspec": {
   "display_name": "Python 3 (ipykernel)",
   "language": "python",
   "name": "python3"
  },
  "language_info": {
   "codemirror_mode": {
    "name": "ipython",
    "version": 3
   },
   "file_extension": ".py",
   "mimetype": "text/x-python",
   "name": "python",
   "nbconvert_exporter": "python",
   "pygments_lexer": "ipython3",
   "version": "3.11.3"
  }
 },
 "nbformat": 4,
 "nbformat_minor": 5
}
