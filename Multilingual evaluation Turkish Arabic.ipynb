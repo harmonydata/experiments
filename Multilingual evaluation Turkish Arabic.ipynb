{
 "cells": [
  {
   "cell_type": "markdown",
   "id": "6593730f",
   "metadata": {},
   "source": [
    "# Evaluate Harmony against other languages"
   ]
  },
  {
   "cell_type": "code",
   "execution_count": 1,
   "id": "42666352",
   "metadata": {},
   "outputs": [],
   "source": [
    "import harmony"
   ]
  },
  {
   "cell_type": "code",
   "execution_count": 2,
   "id": "73ee2ec8",
   "metadata": {},
   "outputs": [],
   "source": [
    "instruments = [harmony.example_instruments['GAD-7 English'], harmony.example_instruments['GAD-7 Portuguese']]"
   ]
  },
  {
   "cell_type": "code",
   "execution_count": 3,
   "id": "cbdf0c20",
   "metadata": {},
   "outputs": [],
   "source": [
    "other_langs = {\"fr\":\"\"\"Sentiment de nervosité, d’anxiété ou de tension\n",
    "Incapable d’arrêter de vous inquiéter ou de contrôler vos inquiétudes\n",
    "Inquiétudes excessives à propos de tout et de rien\n",
    "Difficulté à se détendre\n",
    "Agitation telle qu’il est difficile de rester tranquille\n",
    "Devenir facilement contrarié(e) ou irritable\n",
    "Avoir peur que quelque chose d’épouvantable puisse arriver\"\"\",\n",
    "\"de\":\"\"\"Nervosität, Ängstlichkeit oder Anspannung\n",
    "Nicht in der Lage sein, Sorgen zu stoppen oder zu kontrollieren\n",
    "Übermäßige Sorgen bezüglich verschiedener Angelegenheiten\n",
    "Schwierigkeiten zu entspannen\n",
    "Rastlosigkeit, so dass Stillsitzen schwer fällt\n",
    "Schnelle Verärgerung oder Gereiztheit\n",
    "Gefühl der Angst, so als würde etwas Schlimmes passieren\"\"\",\n",
    "              \"de\":\"\"\"Nervosität, Ängstlichkeit oder Anspannung\n",
    "Nicht in der Lage sein, Sorgen zu stoppen oder zu kontrollieren\n",
    "Übermäßige Sorgen bezüglich verschiedener Angelegenheiten\n",
    "Schwierigkeiten zu entspannen\n",
    "Rastlosigkeit, so dass Stillsitzen schwer fällt\n",
    "Schnelle Verärgerung oder Gereiztheit\n",
    "Gefühl der Angst, so als würde etwas Schlimmes passieren\"\"\",\n",
    "              \"es\":\"\"\"Sentirse nervioso/a, intranquilo/a o con los nervios de punta\n",
    "No poder dejar de preocuparse o no poder controlar la preocupación\n",
    "Preocuparse demasiado por diferentes cosas\n",
    "Dificultad para relajarse\n",
    "Estar tan inquieto/a que es difícil permanecer sentado/a tranquilamente\n",
    "Molestarse o ponerse irritable fácilmente\n",
    "Sentir miedo como si algo terrible pudiera pasar\"\"\",\n",
    "              \"ru\":\"\"\"Вы нервничали, тревожились или испытывали сильный стресс\n",
    "Вы были неспособны успокоиться или контролировать свое волнение\n",
    "Вы слишком сильно волновались по различным поводам\n",
    "Вам было трудно расслабиться\n",
    "Вы были настолько суетливы, что Вам было тяжело усидеть на месте\n",
    "Вы легко злились или раздражались\n",
    "Вы испытывали страх, словно должно произойти нечто ужасное\"\"\",\n",
    "              \"zh\":\"\"\"感觉紧张、焦虑或不安\n",
    "无法停止或控制担忧\n",
    "对各种事情担心太多 \n",
    "难以放松 \n",
    "坐立不安，以至于很难安静地坐下来\n",
    "变得容易生气或急躁 \n",
    "感觉害怕，好像有可怕的事情要发生一样\"\"\",\n",
    "              \"af\":\"\"\"Senuagtig, angstig of gespanne gevoel\n",
    "Kon nie ophou om bekommerd te wees nie\n",
    "Oormatig bekommerd oor verskillende goed\n",
    "Sukkel om te ontspan\n",
    "Só rusteloos dat dit moeilik is om stil te sit\n",
    "Raak maklik vies of geïrriteerd\n",
    "Voel bang asof iets aakligs kan gebeur \"\"\",\n",
    "              \"ceb\":\"\"\"Gibati og nerbiyos, kabalaka, o kahadlok\n",
    "Dili makahunong o makakontrol sa pagkabalaka\n",
    "Sobra nga nabalaka bahin sa lain-lain nga mga butang\n",
    "Lisod pagkalma\n",
    "Nag-alindasay pag-ayo nga lisod pagpabilin nga maglingkod\n",
    "Nahimong dali maglagot o iritable\n",
    "Nahadlok nga basin naay dautan nga mahitabo \"\"\",\n",
    "              \"kn\":\"\"\"ತಳಮಳ, ಆತಂಕ ಅಥ ಾ ಬಹಳ ΅ಾತರದ ಅನುಭವ\n",
    "‷ಂ⁀ಸುವ⁳ದನುΊ ⁄⁌ῤಸಲು ಅಥ ಾ ⁄ಯಂ⁀ῢಸಲು ಧῡ ಾಗ⁂ರುವ⁳ದು\n",
    "⁧ೕ⁫ ⁧ೕ⁫ ⁎ಷಯಗಳ ಬ⁕Ὴ ಅ⁀ ಾ‵ ‷ಂ⁀ಸುವ⁳ದು\n",
    "⁄ ಾಳ ಾ‵ರಲು ⁠ೂಂದ⁫\n",
    "ಒಂದು ಕ⁝ ⁑Ῐರ ಾ‵ ಕು⁍ತು⁓ೂಳῥಲೂ ಆಗದಷುῒ ಚಡಪ‽ಸುವ⁳ದು\n",
    "ಸುಲಭ ಾ‵ ⁓ೂೕಪ⁕ೂಳುῥವ⁳ದು ಅಥ ಾ ″⁋″⁋ ಾಗುವ⁳ದು\n",
    "ಏ῿ಾದರೂ ಅ῿ಾಹುತ ಸಂಭ⁎ಸುತῗ⁢ ಎಂದು ⁲ದರುವ⁳ದು\"\"\",\n",
    "              \"he\":\"\"\"הרגשתי עצבני, חרד או מתוח מאוד\n",
    "לא הייתי מסוגל להפסיק לדאוג או לשלוט בדאגה\n",
    "הייתי מודאג יותר מידי בנוגע לדברים שונים\n",
    "התקשיתי להירגע\n",
    "הייתי כל כך חסר מנוחה שהיה לי קשה לשבת מבלי לנוע\n",
    "הייתי מתעצבן או מתרגז בקלות\n",
    "פחדתי כאילו משהו נורא עלול לקרות\"\"\",\n",
    "              \"no\":\"\"\"Følt deg nervøs, engstelig eller veldig stresset\n",
    "Ikke klart å slutte å bekymre deg eller kontrolleren bekymringene dine\n",
    "Bekymret deg for mye om ulike ting\n",
    "Vansker med å slappe av\n",
    "Vært så rastløs at det har vært vanskelig å sitte stille\n",
    "Blitt lett sint eller irritert\n",
    "Følt deg redd som om noe forferdelig kunne komme til å skje\"\"\",\"ar\":\"\"\"الشعور بالغضب أو القلق أو الانفعال الشديد.\n",
    "عدم القدرة على إنهاء القلق أو التحكّم فيه\n",
    "القلق المفرط على أشياء مختلفة.\n",
    "الصعوبة في الاسترخاء\n",
    "شدة الاضطراب لدرجة صعوبة البقاء في هدوء.\n",
    "السرعة في الانزعاج أو الانفعال.\n",
    "الشّعور بالخوف آما لو أن شيئا فضيعا قد يحدث.\"\"\",\n",
    "              \"tr\":\"\"\"Kendini sinirli, kaygılı veya çok gergin hissetme \n",
    "Kaygılarını durduramama veya kontrol edememe\n",
    "Farklı şeylerden çok fazla endişelenme \n",
    "Gevşemede güçlük çekme\n",
    "Sakince oturamayacak kadar kendini huzursuz hissetme\n",
    "Kolayca kızma ve asabileşme\n",
    "Sanki çok kötü bir şey olacakmış gibi bir korku duyma\"\"\"}"
   ]
  },
  {
   "cell_type": "code",
   "execution_count": 4,
   "id": "84f77201",
   "metadata": {},
   "outputs": [],
   "source": [
    "from iso639 import languages\n",
    "import json"
   ]
  },
  {
   "cell_type": "code",
   "execution_count": 5,
   "id": "6a6cb321",
   "metadata": {
    "scrolled": false
   },
   "outputs": [
    {
     "name": "stdout",
     "output_type": "stream",
     "text": [
      "{\"file_id\": \"da610e34c222432eae9c36c7889f5823\", \"instrument_id\": \"a519f977fd7a4020bbfcf087c729a30f\", \"instrument_name\": \"GAD-7 French\", \"file_name\": \"GAD-7 French.pdf\", \"file_type\": null, \"file_section\": null, \"study\": null, \"sweep\": null, \"metadata\": null, \"language\": \"en\", \"questions\": [{\"question_no\": \"1\", \"question_intro\": null, \"question_text\": \"Sentiment de nervosité, d’anxiété ou de tension\", \"options\": [], \"source_page\": 0, \"instrument_id\": null, \"instrument_name\": null, \"topics_auto\": null, \"nearest_match_from_mhc_auto\": null}, {\"question_no\": \"2\", \"question_intro\": null, \"question_text\": \"Incapable d’arrêter de vous inquiéter ou de contrôler vos inquiétudes\", \"options\": [], \"source_page\": 0, \"instrument_id\": null, \"instrument_name\": null, \"topics_auto\": null, \"nearest_match_from_mhc_auto\": null}, {\"question_no\": \"3\", \"question_intro\": null, \"question_text\": \"Inquiétudes excessives à propos de tout et de rien\", \"options\": [], \"source_page\": 0, \"instrument_id\": null, \"instrument_name\": null, \"topics_auto\": null, \"nearest_match_from_mhc_auto\": null}, {\"question_no\": \"4\", \"question_intro\": null, \"question_text\": \"Difficulté à se détendre\", \"options\": [], \"source_page\": 0, \"instrument_id\": null, \"instrument_name\": null, \"topics_auto\": null, \"nearest_match_from_mhc_auto\": null}, {\"question_no\": \"5\", \"question_intro\": null, \"question_text\": \"Agitation telle qu’il est difficile de rester tranquille\", \"options\": [], \"source_page\": 0, \"instrument_id\": null, \"instrument_name\": null, \"topics_auto\": null, \"nearest_match_from_mhc_auto\": null}, {\"question_no\": \"6\", \"question_intro\": null, \"question_text\": \"Devenir facilement contrarié(e) ou irritable\", \"options\": [], \"source_page\": 0, \"instrument_id\": null, \"instrument_name\": null, \"topics_auto\": null, \"nearest_match_from_mhc_auto\": null}, {\"question_no\": \"7\", \"question_intro\": null, \"question_text\": \"Avoir peur que quelque chose d’épouvantable puisse arriver\", \"options\": [], \"source_page\": 0, \"instrument_id\": null, \"instrument_name\": null, \"topics_auto\": null, \"nearest_match_from_mhc_auto\": null}]},\n",
      "{\"file_id\": \"7d63c0f40b784a1e8a4c001a5730651c\", \"instrument_id\": \"3547a7c03a864a3aae1fee997a555725\", \"instrument_name\": \"GAD-7 German\", \"file_name\": \"GAD-7 German.pdf\", \"file_type\": null, \"file_section\": null, \"study\": null, \"sweep\": null, \"metadata\": null, \"language\": \"en\", \"questions\": [{\"question_no\": \"1\", \"question_intro\": null, \"question_text\": \"Nervosität, Ängstlichkeit oder Anspannung\", \"options\": [], \"source_page\": 0, \"instrument_id\": null, \"instrument_name\": null, \"topics_auto\": null, \"nearest_match_from_mhc_auto\": null}, {\"question_no\": \"2\", \"question_intro\": null, \"question_text\": \"Nicht in der Lage sein, Sorgen zu stoppen oder zu kontrollieren\", \"options\": [], \"source_page\": 0, \"instrument_id\": null, \"instrument_name\": null, \"topics_auto\": null, \"nearest_match_from_mhc_auto\": null}, {\"question_no\": \"3\", \"question_intro\": null, \"question_text\": \"Übermäßige Sorgen bezüglich verschiedener Angelegenheiten\", \"options\": [], \"source_page\": 0, \"instrument_id\": null, \"instrument_name\": null, \"topics_auto\": null, \"nearest_match_from_mhc_auto\": null}, {\"question_no\": \"4\", \"question_intro\": null, \"question_text\": \"Schwierigkeiten zu entspannen\", \"options\": [], \"source_page\": 0, \"instrument_id\": null, \"instrument_name\": null, \"topics_auto\": null, \"nearest_match_from_mhc_auto\": null}, {\"question_no\": \"5\", \"question_intro\": null, \"question_text\": \"Rastlosigkeit, so dass Stillsitzen schwer fällt\", \"options\": [], \"source_page\": 0, \"instrument_id\": null, \"instrument_name\": null, \"topics_auto\": null, \"nearest_match_from_mhc_auto\": null}, {\"question_no\": \"6\", \"question_intro\": null, \"question_text\": \"Schnelle Verärgerung oder Gereiztheit\", \"options\": [], \"source_page\": 0, \"instrument_id\": null, \"instrument_name\": null, \"topics_auto\": null, \"nearest_match_from_mhc_auto\": null}, {\"question_no\": \"7\", \"question_intro\": null, \"question_text\": \"Gefühl der Angst, so als würde etwas Schlimmes passieren\", \"options\": [], \"source_page\": 0, \"instrument_id\": null, \"instrument_name\": null, \"topics_auto\": null, \"nearest_match_from_mhc_auto\": null}]},\n",
      "{\"file_id\": \"6374b8051b8949f489c76a6fd2146632\", \"instrument_id\": \"51c4f25a9287424e9357aa9a44070424\", \"instrument_name\": \"GAD-7 Spanish\", \"file_name\": \"GAD-7 Spanish.pdf\", \"file_type\": null, \"file_section\": null, \"study\": null, \"sweep\": null, \"metadata\": null, \"language\": \"en\", \"questions\": [{\"question_no\": \"1\", \"question_intro\": null, \"question_text\": \"Sentirse nervioso/a, intranquilo/a o con los nervios de punta\", \"options\": [], \"source_page\": 0, \"instrument_id\": null, \"instrument_name\": null, \"topics_auto\": null, \"nearest_match_from_mhc_auto\": null}, {\"question_no\": \"2\", \"question_intro\": null, \"question_text\": \"No poder dejar de preocuparse o no poder controlar la preocupación\", \"options\": [], \"source_page\": 0, \"instrument_id\": null, \"instrument_name\": null, \"topics_auto\": null, \"nearest_match_from_mhc_auto\": null}, {\"question_no\": \"3\", \"question_intro\": null, \"question_text\": \"Preocuparse demasiado por diferentes cosas\", \"options\": [], \"source_page\": 0, \"instrument_id\": null, \"instrument_name\": null, \"topics_auto\": null, \"nearest_match_from_mhc_auto\": null}, {\"question_no\": \"4\", \"question_intro\": null, \"question_text\": \"Dificultad para relajarse\", \"options\": [], \"source_page\": 0, \"instrument_id\": null, \"instrument_name\": null, \"topics_auto\": null, \"nearest_match_from_mhc_auto\": null}, {\"question_no\": \"5\", \"question_intro\": null, \"question_text\": \"Estar tan inquieto/a que es difícil permanecer sentado/a tranquilamente\", \"options\": [], \"source_page\": 0, \"instrument_id\": null, \"instrument_name\": null, \"topics_auto\": null, \"nearest_match_from_mhc_auto\": null}, {\"question_no\": \"6\", \"question_intro\": null, \"question_text\": \"Molestarse o ponerse irritable fácilmente\", \"options\": [], \"source_page\": 0, \"instrument_id\": null, \"instrument_name\": null, \"topics_auto\": null, \"nearest_match_from_mhc_auto\": null}, {\"question_no\": \"7\", \"question_intro\": null, \"question_text\": \"Sentir miedo como si algo terrible pudiera pasar\", \"options\": [], \"source_page\": 0, \"instrument_id\": null, \"instrument_name\": null, \"topics_auto\": null, \"nearest_match_from_mhc_auto\": null}]},\n",
      "{\"file_id\": \"055b92b8977e4011bc3a73ff7ec17157\", \"instrument_id\": \"c82f0b7a32324f2a9d4fa05025031e09\", \"instrument_name\": \"GAD-7 Russian\", \"file_name\": \"GAD-7 Russian.pdf\", \"file_type\": null, \"file_section\": null, \"study\": null, \"sweep\": null, \"metadata\": null, \"language\": \"en\", \"questions\": [{\"question_no\": \"1\", \"question_intro\": null, \"question_text\": \"Вы нервничали, тревожились или испытывали сильный стресс\", \"options\": [], \"source_page\": 0, \"instrument_id\": null, \"instrument_name\": null, \"topics_auto\": null, \"nearest_match_from_mhc_auto\": null}, {\"question_no\": \"2\", \"question_intro\": null, \"question_text\": \"Вы были неспособны успокоиться или контролировать свое волнение\", \"options\": [], \"source_page\": 0, \"instrument_id\": null, \"instrument_name\": null, \"topics_auto\": null, \"nearest_match_from_mhc_auto\": null}, {\"question_no\": \"3\", \"question_intro\": null, \"question_text\": \"Вы слишком сильно волновались по различным поводам\", \"options\": [], \"source_page\": 0, \"instrument_id\": null, \"instrument_name\": null, \"topics_auto\": null, \"nearest_match_from_mhc_auto\": null}, {\"question_no\": \"4\", \"question_intro\": null, \"question_text\": \"Вам было трудно расслабиться\", \"options\": [], \"source_page\": 0, \"instrument_id\": null, \"instrument_name\": null, \"topics_auto\": null, \"nearest_match_from_mhc_auto\": null}, {\"question_no\": \"5\", \"question_intro\": null, \"question_text\": \"Вы были настолько суетливы, что Вам было тяжело усидеть на месте\", \"options\": [], \"source_page\": 0, \"instrument_id\": null, \"instrument_name\": null, \"topics_auto\": null, \"nearest_match_from_mhc_auto\": null}, {\"question_no\": \"6\", \"question_intro\": null, \"question_text\": \"Вы легко злились или раздражались\", \"options\": [], \"source_page\": 0, \"instrument_id\": null, \"instrument_name\": null, \"topics_auto\": null, \"nearest_match_from_mhc_auto\": null}, {\"question_no\": \"7\", \"question_intro\": null, \"question_text\": \"Вы испытывали страх, словно должно произойти нечто ужасное\", \"options\": [], \"source_page\": 0, \"instrument_id\": null, \"instrument_name\": null, \"topics_auto\": null, \"nearest_match_from_mhc_auto\": null}]},\n",
      "{\"file_id\": \"71671a29a8964e9fb5eb1e89d527e6af\", \"instrument_id\": \"f4d47461ede94529bedab963f66965b0\", \"instrument_name\": \"GAD-7 Chinese\", \"file_name\": \"GAD-7 Chinese.pdf\", \"file_type\": null, \"file_section\": null, \"study\": null, \"sweep\": null, \"metadata\": null, \"language\": \"en\", \"questions\": [{\"question_no\": \"1\", \"question_intro\": null, \"question_text\": \"感觉紧张、焦虑或不安\", \"options\": [], \"source_page\": 0, \"instrument_id\": null, \"instrument_name\": null, \"topics_auto\": null, \"nearest_match_from_mhc_auto\": null}, {\"question_no\": \"2\", \"question_intro\": null, \"question_text\": \"无法停止或控制担忧\", \"options\": [], \"source_page\": 0, \"instrument_id\": null, \"instrument_name\": null, \"topics_auto\": null, \"nearest_match_from_mhc_auto\": null}, {\"question_no\": \"3\", \"question_intro\": null, \"question_text\": \"对各种事情担心太多 \", \"options\": [], \"source_page\": 0, \"instrument_id\": null, \"instrument_name\": null, \"topics_auto\": null, \"nearest_match_from_mhc_auto\": null}, {\"question_no\": \"4\", \"question_intro\": null, \"question_text\": \"难以放松 \", \"options\": [], \"source_page\": 0, \"instrument_id\": null, \"instrument_name\": null, \"topics_auto\": null, \"nearest_match_from_mhc_auto\": null}, {\"question_no\": \"5\", \"question_intro\": null, \"question_text\": \"坐立不安，以至于很难安静地坐下来\", \"options\": [], \"source_page\": 0, \"instrument_id\": null, \"instrument_name\": null, \"topics_auto\": null, \"nearest_match_from_mhc_auto\": null}, {\"question_no\": \"6\", \"question_intro\": null, \"question_text\": \"变得容易生气或急躁 \", \"options\": [], \"source_page\": 0, \"instrument_id\": null, \"instrument_name\": null, \"topics_auto\": null, \"nearest_match_from_mhc_auto\": null}, {\"question_no\": \"7\", \"question_intro\": null, \"question_text\": \"感觉害怕，好像有可怕的事情要发生一样\", \"options\": [], \"source_page\": 0, \"instrument_id\": null, \"instrument_name\": null, \"topics_auto\": null, \"nearest_match_from_mhc_auto\": null}]},\n",
      "{\"file_id\": \"2ef5d448ae914e178aaa7ca6a2827b58\", \"instrument_id\": \"1f11189cf671421793aa197d798b85f8\", \"instrument_name\": \"GAD-7 Afrikaans\", \"file_name\": \"GAD-7 Afrikaans.pdf\", \"file_type\": null, \"file_section\": null, \"study\": null, \"sweep\": null, \"metadata\": null, \"language\": \"en\", \"questions\": [{\"question_no\": \"1\", \"question_intro\": null, \"question_text\": \"Senuagtig, angstig of gespanne gevoel\", \"options\": [], \"source_page\": 0, \"instrument_id\": null, \"instrument_name\": null, \"topics_auto\": null, \"nearest_match_from_mhc_auto\": null}, {\"question_no\": \"2\", \"question_intro\": null, \"question_text\": \"Kon nie ophou om bekommerd te wees nie\", \"options\": [], \"source_page\": 0, \"instrument_id\": null, \"instrument_name\": null, \"topics_auto\": null, \"nearest_match_from_mhc_auto\": null}, {\"question_no\": \"3\", \"question_intro\": null, \"question_text\": \"Oormatig bekommerd oor verskillende goed\", \"options\": [], \"source_page\": 0, \"instrument_id\": null, \"instrument_name\": null, \"topics_auto\": null, \"nearest_match_from_mhc_auto\": null}, {\"question_no\": \"4\", \"question_intro\": null, \"question_text\": \"Sukkel om te ontspan\", \"options\": [], \"source_page\": 0, \"instrument_id\": null, \"instrument_name\": null, \"topics_auto\": null, \"nearest_match_from_mhc_auto\": null}, {\"question_no\": \"5\", \"question_intro\": null, \"question_text\": \"Só rusteloos dat dit moeilik is om stil te sit\", \"options\": [], \"source_page\": 0, \"instrument_id\": null, \"instrument_name\": null, \"topics_auto\": null, \"nearest_match_from_mhc_auto\": null}, {\"question_no\": \"6\", \"question_intro\": null, \"question_text\": \"Raak maklik vies of geïrriteerd\", \"options\": [], \"source_page\": 0, \"instrument_id\": null, \"instrument_name\": null, \"topics_auto\": null, \"nearest_match_from_mhc_auto\": null}, {\"question_no\": \"7\", \"question_intro\": null, \"question_text\": \"Voel bang asof iets aakligs kan gebeur \", \"options\": [], \"source_page\": 0, \"instrument_id\": null, \"instrument_name\": null, \"topics_auto\": null, \"nearest_match_from_mhc_auto\": null}]},\n",
      "{\"file_id\": \"4d75a300d69a4d18a16947407f52a48c\", \"instrument_id\": \"5f5ad9a6862944e380a31b97e54f5972\", \"instrument_name\": \"GAD-7 Cebuano\", \"file_name\": \"GAD-7 Cebuano.pdf\", \"file_type\": null, \"file_section\": null, \"study\": null, \"sweep\": null, \"metadata\": null, \"language\": \"en\", \"questions\": [{\"question_no\": \"1\", \"question_intro\": null, \"question_text\": \"Gibati og nerbiyos, kabalaka, o kahadlok\", \"options\": [], \"source_page\": 0, \"instrument_id\": null, \"instrument_name\": null, \"topics_auto\": null, \"nearest_match_from_mhc_auto\": null}, {\"question_no\": \"2\", \"question_intro\": null, \"question_text\": \"Dili makahunong o makakontrol sa pagkabalaka\", \"options\": [], \"source_page\": 0, \"instrument_id\": null, \"instrument_name\": null, \"topics_auto\": null, \"nearest_match_from_mhc_auto\": null}, {\"question_no\": \"3\", \"question_intro\": null, \"question_text\": \"Sobra nga nabalaka bahin sa lain-lain nga mga butang\", \"options\": [], \"source_page\": 0, \"instrument_id\": null, \"instrument_name\": null, \"topics_auto\": null, \"nearest_match_from_mhc_auto\": null}, {\"question_no\": \"4\", \"question_intro\": null, \"question_text\": \"Lisod pagkalma\", \"options\": [], \"source_page\": 0, \"instrument_id\": null, \"instrument_name\": null, \"topics_auto\": null, \"nearest_match_from_mhc_auto\": null}, {\"question_no\": \"5\", \"question_intro\": null, \"question_text\": \"Nag-alindasay pag-ayo nga lisod pagpabilin nga maglingkod\", \"options\": [], \"source_page\": 0, \"instrument_id\": null, \"instrument_name\": null, \"topics_auto\": null, \"nearest_match_from_mhc_auto\": null}, {\"question_no\": \"6\", \"question_intro\": null, \"question_text\": \"Nahimong dali maglagot o iritable\", \"options\": [], \"source_page\": 0, \"instrument_id\": null, \"instrument_name\": null, \"topics_auto\": null, \"nearest_match_from_mhc_auto\": null}, {\"question_no\": \"7\", \"question_intro\": null, \"question_text\": \"Nahadlok nga basin naay dautan nga mahitabo \", \"options\": [], \"source_page\": 0, \"instrument_id\": null, \"instrument_name\": null, \"topics_auto\": null, \"nearest_match_from_mhc_auto\": null}]},\n",
      "{\"file_id\": \"0d555c05c740487091b4c153ab650ef6\", \"instrument_id\": \"84b48a19978147e7babcdcf5cb2cec5b\", \"instrument_name\": \"GAD-7 Kannada\", \"file_name\": \"GAD-7 Kannada.pdf\", \"file_type\": null, \"file_section\": null, \"study\": null, \"sweep\": null, \"metadata\": null, \"language\": \"en\", \"questions\": [{\"question_no\": \"1\", \"question_intro\": null, \"question_text\": \"ತಳಮಳ, ಆತಂಕ ಅಥ ಾ ಬಹಳ ΅ಾತರದ ಅನುಭವ\", \"options\": [], \"source_page\": 0, \"instrument_id\": null, \"instrument_name\": null, \"topics_auto\": null, \"nearest_match_from_mhc_auto\": null}, {\"question_no\": \"2\", \"question_intro\": null, \"question_text\": \"‷ಂ⁀ಸುವ⁳ದನುΊ ⁄⁌ῤಸಲು ಅಥ ಾ ⁄ಯಂ⁀ῢಸಲು ಧῡ ಾಗ⁂ರುವ⁳ದು\", \"options\": [], \"source_page\": 0, \"instrument_id\": null, \"instrument_name\": null, \"topics_auto\": null, \"nearest_match_from_mhc_auto\": null}, {\"question_no\": \"3\", \"question_intro\": null, \"question_text\": \"⁧ೕ⁫ ⁧ೕ⁫ ⁎ಷಯಗಳ ಬ⁕Ὴ ಅ⁀ ಾ‵ ‷ಂ⁀ಸುವ⁳ದು\", \"options\": [], \"source_page\": 0, \"instrument_id\": null, \"instrument_name\": null, \"topics_auto\": null, \"nearest_match_from_mhc_auto\": null}, {\"question_no\": \"4\", \"question_intro\": null, \"question_text\": \"⁄ ಾಳ ಾ‵ರಲು ⁠ೂಂದ⁫\", \"options\": [], \"source_page\": 0, \"instrument_id\": null, \"instrument_name\": null, \"topics_auto\": null, \"nearest_match_from_mhc_auto\": null}, {\"question_no\": \"5\", \"question_intro\": null, \"question_text\": \"ಒಂದು ಕ⁝ ⁑Ῐರ ಾ‵ ಕು⁍ತು⁓ೂಳῥಲೂ ಆಗದಷುῒ ಚಡಪ‽ಸುವ⁳ದು\", \"options\": [], \"source_page\": 0, \"instrument_id\": null, \"instrument_name\": null, \"topics_auto\": null, \"nearest_match_from_mhc_auto\": null}, {\"question_no\": \"6\", \"question_intro\": null, \"question_text\": \"ಸುಲಭ ಾ‵ ⁓ೂೕಪ⁕ೂಳುῥವ⁳ದು ಅಥ ಾ ″⁋″⁋ ಾಗುವ⁳ದು\", \"options\": [], \"source_page\": 0, \"instrument_id\": null, \"instrument_name\": null, \"topics_auto\": null, \"nearest_match_from_mhc_auto\": null}, {\"question_no\": \"7\", \"question_intro\": null, \"question_text\": \"ಏ῿ಾದರೂ ಅ῿ಾಹುತ ಸಂಭ⁎ಸುತῗ⁢ ಎಂದು ⁲ದರುವ⁳ದು\", \"options\": [], \"source_page\": 0, \"instrument_id\": null, \"instrument_name\": null, \"topics_auto\": null, \"nearest_match_from_mhc_auto\": null}]},\n",
      "{\"file_id\": \"7c3808d2db714c2c8df1f228b68a336f\", \"instrument_id\": \"332ea069a720423ba02b713ed4eb41c2\", \"instrument_name\": \"GAD-7 Hebrew\", \"file_name\": \"GAD-7 Hebrew.pdf\", \"file_type\": null, \"file_section\": null, \"study\": null, \"sweep\": null, \"metadata\": null, \"language\": \"en\", \"questions\": [{\"question_no\": \"1\", \"question_intro\": null, \"question_text\": \"הרגשתי עצבני, חרד או מתוח מאוד\", \"options\": [], \"source_page\": 0, \"instrument_id\": null, \"instrument_name\": null, \"topics_auto\": null, \"nearest_match_from_mhc_auto\": null}, {\"question_no\": \"2\", \"question_intro\": null, \"question_text\": \"לא הייתי מסוגל להפסיק לדאוג או לשלוט בדאגה\", \"options\": [], \"source_page\": 0, \"instrument_id\": null, \"instrument_name\": null, \"topics_auto\": null, \"nearest_match_from_mhc_auto\": null}, {\"question_no\": \"3\", \"question_intro\": null, \"question_text\": \"הייתי מודאג יותר מידי בנוגע לדברים שונים\", \"options\": [], \"source_page\": 0, \"instrument_id\": null, \"instrument_name\": null, \"topics_auto\": null, \"nearest_match_from_mhc_auto\": null}, {\"question_no\": \"4\", \"question_intro\": null, \"question_text\": \"התקשיתי להירגע\", \"options\": [], \"source_page\": 0, \"instrument_id\": null, \"instrument_name\": null, \"topics_auto\": null, \"nearest_match_from_mhc_auto\": null}, {\"question_no\": \"5\", \"question_intro\": null, \"question_text\": \"הייתי כל כך חסר מנוחה שהיה לי קשה לשבת מבלי לנוע\", \"options\": [], \"source_page\": 0, \"instrument_id\": null, \"instrument_name\": null, \"topics_auto\": null, \"nearest_match_from_mhc_auto\": null}, {\"question_no\": \"6\", \"question_intro\": null, \"question_text\": \"הייתי מתעצבן או מתרגז בקלות\", \"options\": [], \"source_page\": 0, \"instrument_id\": null, \"instrument_name\": null, \"topics_auto\": null, \"nearest_match_from_mhc_auto\": null}, {\"question_no\": \"7\", \"question_intro\": null, \"question_text\": \"פחדתי כאילו משהו נורא עלול לקרות\", \"options\": [], \"source_page\": 0, \"instrument_id\": null, \"instrument_name\": null, \"topics_auto\": null, \"nearest_match_from_mhc_auto\": null}]},\n",
      "{\"file_id\": \"b8158debe0e0465b96b4e0d753034c0c\", \"instrument_id\": \"87df592213514296ba8800013695ca9d\", \"instrument_name\": \"GAD-7 Norwegian\", \"file_name\": \"GAD-7 Norwegian.pdf\", \"file_type\": null, \"file_section\": null, \"study\": null, \"sweep\": null, \"metadata\": null, \"language\": \"en\", \"questions\": [{\"question_no\": \"1\", \"question_intro\": null, \"question_text\": \"Følt deg nervøs, engstelig eller veldig stresset\", \"options\": [], \"source_page\": 0, \"instrument_id\": null, \"instrument_name\": null, \"topics_auto\": null, \"nearest_match_from_mhc_auto\": null}, {\"question_no\": \"2\", \"question_intro\": null, \"question_text\": \"Ikke klart å slutte å bekymre deg eller kontrolleren bekymringene dine\", \"options\": [], \"source_page\": 0, \"instrument_id\": null, \"instrument_name\": null, \"topics_auto\": null, \"nearest_match_from_mhc_auto\": null}, {\"question_no\": \"3\", \"question_intro\": null, \"question_text\": \"Bekymret deg for mye om ulike ting\", \"options\": [], \"source_page\": 0, \"instrument_id\": null, \"instrument_name\": null, \"topics_auto\": null, \"nearest_match_from_mhc_auto\": null}, {\"question_no\": \"4\", \"question_intro\": null, \"question_text\": \"Vansker med å slappe av\", \"options\": [], \"source_page\": 0, \"instrument_id\": null, \"instrument_name\": null, \"topics_auto\": null, \"nearest_match_from_mhc_auto\": null}, {\"question_no\": \"5\", \"question_intro\": null, \"question_text\": \"Vært så rastløs at det har vært vanskelig å sitte stille\", \"options\": [], \"source_page\": 0, \"instrument_id\": null, \"instrument_name\": null, \"topics_auto\": null, \"nearest_match_from_mhc_auto\": null}, {\"question_no\": \"6\", \"question_intro\": null, \"question_text\": \"Blitt lett sint eller irritert\", \"options\": [], \"source_page\": 0, \"instrument_id\": null, \"instrument_name\": null, \"topics_auto\": null, \"nearest_match_from_mhc_auto\": null}, {\"question_no\": \"7\", \"question_intro\": null, \"question_text\": \"Følt deg redd som om noe forferdelig kunne komme til å skje\", \"options\": [], \"source_page\": 0, \"instrument_id\": null, \"instrument_name\": null, \"topics_auto\": null, \"nearest_match_from_mhc_auto\": null}]},\n",
      "{\"file_id\": \"5c6b627ed27a4716b3d712ad475d5fca\", \"instrument_id\": \"b4c63e300c2544ee81e35fae776adfc0\", \"instrument_name\": \"GAD-7 Arabic\", \"file_name\": \"GAD-7 Arabic.pdf\", \"file_type\": null, \"file_section\": null, \"study\": null, \"sweep\": null, \"metadata\": null, \"language\": \"en\", \"questions\": [{\"question_no\": \"1\", \"question_intro\": null, \"question_text\": \"الشعور بالغضب أو القلق أو الانفعال الشديد.\", \"options\": [], \"source_page\": 0, \"instrument_id\": null, \"instrument_name\": null, \"topics_auto\": null, \"nearest_match_from_mhc_auto\": null}, {\"question_no\": \"2\", \"question_intro\": null, \"question_text\": \"عدم القدرة على إنهاء القلق أو التحكّم فيه\", \"options\": [], \"source_page\": 0, \"instrument_id\": null, \"instrument_name\": null, \"topics_auto\": null, \"nearest_match_from_mhc_auto\": null}, {\"question_no\": \"3\", \"question_intro\": null, \"question_text\": \"القلق المفرط على أشياء مختلفة.\", \"options\": [], \"source_page\": 0, \"instrument_id\": null, \"instrument_name\": null, \"topics_auto\": null, \"nearest_match_from_mhc_auto\": null}, {\"question_no\": \"4\", \"question_intro\": null, \"question_text\": \"الصعوبة في الاسترخاء\", \"options\": [], \"source_page\": 0, \"instrument_id\": null, \"instrument_name\": null, \"topics_auto\": null, \"nearest_match_from_mhc_auto\": null}, {\"question_no\": \"5\", \"question_intro\": null, \"question_text\": \"شدة الاضطراب لدرجة صعوبة البقاء في هدوء.\", \"options\": [], \"source_page\": 0, \"instrument_id\": null, \"instrument_name\": null, \"topics_auto\": null, \"nearest_match_from_mhc_auto\": null}, {\"question_no\": \"6\", \"question_intro\": null, \"question_text\": \"السرعة في الانزعاج أو الانفعال.\", \"options\": [], \"source_page\": 0, \"instrument_id\": null, \"instrument_name\": null, \"topics_auto\": null, \"nearest_match_from_mhc_auto\": null}, {\"question_no\": \"7\", \"question_intro\": null, \"question_text\": \"الشّعور بالخوف آما لو أن شيئا فضيعا قد يحدث.\", \"options\": [], \"source_page\": 0, \"instrument_id\": null, \"instrument_name\": null, \"topics_auto\": null, \"nearest_match_from_mhc_auto\": null}]},\n",
      "{\"file_id\": \"fb59c81934724794baf1f28953c67651\", \"instrument_id\": \"1a896848c40c4c7f9bf9fe3409aa8660\", \"instrument_name\": \"GAD-7 Turkish\", \"file_name\": \"GAD-7 Turkish.pdf\", \"file_type\": null, \"file_section\": null, \"study\": null, \"sweep\": null, \"metadata\": null, \"language\": \"en\", \"questions\": [{\"question_no\": \"1\", \"question_intro\": null, \"question_text\": \"Kendini sinirli, kaygılı veya çok gergin hissetme \", \"options\": [], \"source_page\": 0, \"instrument_id\": null, \"instrument_name\": null, \"topics_auto\": null, \"nearest_match_from_mhc_auto\": null}, {\"question_no\": \"2\", \"question_intro\": null, \"question_text\": \"Kaygılarını durduramama veya kontrol edememe\", \"options\": [], \"source_page\": 0, \"instrument_id\": null, \"instrument_name\": null, \"topics_auto\": null, \"nearest_match_from_mhc_auto\": null}, {\"question_no\": \"3\", \"question_intro\": null, \"question_text\": \"Farklı şeylerden çok fazla endişelenme \", \"options\": [], \"source_page\": 0, \"instrument_id\": null, \"instrument_name\": null, \"topics_auto\": null, \"nearest_match_from_mhc_auto\": null}, {\"question_no\": \"4\", \"question_intro\": null, \"question_text\": \"Gevşemede güçlük çekme\", \"options\": [], \"source_page\": 0, \"instrument_id\": null, \"instrument_name\": null, \"topics_auto\": null, \"nearest_match_from_mhc_auto\": null}, {\"question_no\": \"5\", \"question_intro\": null, \"question_text\": \"Sakince oturamayacak kadar kendini huzursuz hissetme\", \"options\": [], \"source_page\": 0, \"instrument_id\": null, \"instrument_name\": null, \"topics_auto\": null, \"nearest_match_from_mhc_auto\": null}, {\"question_no\": \"6\", \"question_intro\": null, \"question_text\": \"Kolayca kızma ve asabileşme\", \"options\": [], \"source_page\": 0, \"instrument_id\": null, \"instrument_name\": null, \"topics_auto\": null, \"nearest_match_from_mhc_auto\": null}, {\"question_no\": \"7\", \"question_intro\": null, \"question_text\": \"Sanki çok kötü bir şey olacakmış gibi bir korku duyma\", \"options\": [], \"source_page\": 0, \"instrument_id\": null, \"instrument_name\": null, \"topics_auto\": null, \"nearest_match_from_mhc_auto\": null}]},\n"
     ]
    }
   ],
   "source": [
    "import uuid\n",
    "\n",
    "from harmony.schemas.requests.text import Instrument, Question\n",
    "for lang, text in other_langs.items():\n",
    "    \n",
    "    if lang == \"ceb\":\n",
    "        lllnnn = \"Cebuano\"\n",
    "    else:\n",
    "        lllnnn = languages.get(alpha2= lang).name\n",
    "    instrn = \"GAD-7 \" + lllnnn\n",
    "    \n",
    "    questions = []\n",
    "    for qno, line in enumerate(text.split(\"\\n\")):\n",
    "        questions.append(Question(question_text=line, question_no = str(qno+1)))\n",
    "    instr = Instrument(questions=questions, instrument_name=instrn, file_id=uuid.uuid4().hex, instrument_id=uuid.uuid4().hex ,\n",
    "                      file_name = instrn + \".pdf\"\n",
    "                      )\n",
    "    instruments.append(instr)\n",
    "    print (json.dumps(instr.dict(), ensure_ascii=False) +\",\")"
   ]
  },
  {
   "cell_type": "code",
   "execution_count": 6,
   "id": "219e1f88",
   "metadata": {},
   "outputs": [],
   "source": [
    "import json\n"
   ]
  },
  {
   "cell_type": "code",
   "execution_count": 7,
   "id": "cf2800c4",
   "metadata": {},
   "outputs": [],
   "source": [
    "for i in instruments:\n",
    "    if len(i.questions) > 7:\n",
    "        i.questions = i.questions[:7]"
   ]
  },
  {
   "cell_type": "code",
   "execution_count": null,
   "id": "656a59ac",
   "metadata": {},
   "outputs": [],
   "source": []
  },
  {
   "cell_type": "code",
   "execution_count": 8,
   "id": "1af7c48a",
   "metadata": {},
   "outputs": [],
   "source": [
    "from harmony import match_instruments"
   ]
  },
  {
   "cell_type": "code",
   "execution_count": 9,
   "id": "076ea48c",
   "metadata": {},
   "outputs": [],
   "source": [
    "questions, similarity, query_similarity, new_vectors_dict = match_instruments(instruments)"
   ]
  },
  {
   "cell_type": "code",
   "execution_count": 10,
   "id": "348a0019",
   "metadata": {},
   "outputs": [
    {
     "data": {
      "text/plain": [
       "7"
      ]
     },
     "execution_count": 10,
     "metadata": {},
     "output_type": "execute_result"
    }
   ],
   "source": [
    "len(instruments[0].questions)"
   ]
  },
  {
   "cell_type": "code",
   "execution_count": 11,
   "id": "a9c8743b",
   "metadata": {},
   "outputs": [
    {
     "name": "stdout",
     "output_type": "stream",
     "text": [
      "7\n",
      "7\n",
      "7\n",
      "7\n",
      "7\n",
      "7\n",
      "7\n",
      "7\n",
      "7\n",
      "7\n",
      "7\n",
      "7\n",
      "7\n",
      "7\n"
     ]
    }
   ],
   "source": [
    "len(instruments)\n",
    "for i in instruments:\n",
    "    print (len(i.questions))"
   ]
  },
  {
   "cell_type": "code",
   "execution_count": 12,
   "id": "2f1156d3",
   "metadata": {},
   "outputs": [
    {
     "name": "stdout",
     "output_type": "stream",
     "text": [
      "English to  GAD-7 Portuguese 1.0\n",
      "English to  GAD-7 French 0.9863945578231292\n",
      "English to  GAD-7 German 0.9863945578231292\n",
      "English to  GAD-7 Spanish 0.9659863945578231\n",
      "English to  GAD-7 Russian 0.9863945578231292\n",
      "English to  GAD-7 Chinese 1.0\n",
      "English to  GAD-7 Afrikaans 0.8707482993197279\n",
      "English to  GAD-7 Cebuano 0.5442176870748299\n",
      "English to  GAD-7 Kannada 0.3945578231292517\n",
      "English to  GAD-7 Hebrew 1.0\n",
      "English to  GAD-7 Norwegian 0.8571428571428571\n",
      "English to  GAD-7 Arabic 0.9659863945578232\n",
      "English to  GAD-7 Turkish 0.8027210884353742\n"
     ]
    }
   ],
   "source": [
    "from sklearn.metrics import roc_auc_score\n",
    "\n",
    "for lang_id in range(1, len(instruments)):\n",
    "    similarities = []\n",
    "    ground_truths = []\n",
    "    \n",
    "    for i in range(7):\n",
    "        for j in range(7):\n",
    "            if i <= j:\n",
    "                similarities.append(similarity[i,7*lang_id + j])\n",
    "                ground_truths.append(int(i==j))\n",
    "                \n",
    "    print (\"English to \", instruments[lang_id].instrument_name, roc_auc_score(ground_truths, similarities))"
   ]
  },
  {
   "cell_type": "code",
   "execution_count": null,
   "id": "5770ac4b",
   "metadata": {},
   "outputs": [],
   "source": []
  }
 ],
 "metadata": {
  "kernelspec": {
   "display_name": "Python 3 (ipykernel)",
   "language": "python",
   "name": "python3"
  },
  "language_info": {
   "codemirror_mode": {
    "name": "ipython",
    "version": 3
   },
   "file_extension": ".py",
   "mimetype": "text/x-python",
   "name": "python",
   "nbconvert_exporter": "python",
   "pygments_lexer": "ipython3",
   "version": "3.11.3"
  }
 },
 "nbformat": 4,
 "nbformat_minor": 5
}
