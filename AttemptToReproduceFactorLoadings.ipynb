{
 "cells": [
  {
   "cell_type": "markdown",
   "id": "6e9a64cb",
   "metadata": {},
   "source": [
    "# Attempting to reproduce factor loadings from 5-factor model Karlsson et al using Harmony\n",
    "\n",
    "Karlsson P, Larm P, Svensson J, Raninen J (2022) The factor structure of the Strength and Difficulties Questionnaire in a national sample of Swedish adolescents: Comparing 3 and 5-factor models. PLOS ONE 17(3): e0265481. https://doi.org/10.1371/journal.pone.0265481\n",
    "https://journals.plos.org/plosone/article?id=10.1371/journal.pone.0265481\n",
    "\n",
    "![Karlsson P, Larm P, Svensson J, Raninen J (2022) The factor structure of the Strength and Difficulties Questionnaire in a national sample of Swedish adolescents: Comparing 3 and 5-factor models. PLOS ONE 17(3): e0265481. https://doi.org/10.1371/journal.pone.0265481](journal.pone.0265481.t001.PNG \"Karlsson P, Larm P, Svensson J, Raninen J (2022) The factor structure of the Strength and Difficulties Questionnaire in a national sample of Swedish adolescents: Comparing 3 and 5-factor models. PLOS ONE 17(3): e0265481. https://doi.org/10.1371/journal.pone.0265481\")\n",
    "\n",
    "\n",
    "Questionnaire used: https://www.sdqinfo.org/py/sdqinfo/b3.py?language=Englishqz(UK) - chose SDQ_English(UK)_s11-17full.pdf"
   ]
  },
  {
   "cell_type": "code",
   "execution_count": 1,
   "id": "d7ff34fc",
   "metadata": {},
   "outputs": [
    {
     "name": "stderr",
     "output_type": "stream",
     "text": [
      "2023-07-13 09:42:16.134860: I tensorflow/core/platform/cpu_feature_guard.cc:193] This TensorFlow binary is optimized with oneAPI Deep Neural Network Library (oneDNN) to use the following CPU instructions in performance-critical operations:  AVX2 FMA\n",
      "To enable them in other operations, rebuild TensorFlow with the appropriate compiler flags.\n",
      "2023-07-13 09:42:21.562119: W tensorflow/stream_executor/platform/default/dso_loader.cc:64] Could not load dynamic library 'libcudart.so.11.0'; dlerror: libcudart.so.11.0: cannot open shared object file: No such file or directory\n",
      "2023-07-13 09:42:21.562175: I tensorflow/stream_executor/cuda/cudart_stub.cc:29] Ignore above cudart dlerror if you do not have a GPU set up on your machine.\n",
      "2023-07-13 09:42:22.020479: E tensorflow/stream_executor/cuda/cuda_blas.cc:2981] Unable to register cuBLAS factory: Attempting to register factory for plugin cuBLAS when one has already been registered\n",
      "2023-07-13 09:42:42.559848: W tensorflow/stream_executor/platform/default/dso_loader.cc:64] Could not load dynamic library 'libnvinfer.so.7'; dlerror: libnvinfer.so.7: cannot open shared object file: No such file or directory\n",
      "2023-07-13 09:42:42.560195: W tensorflow/stream_executor/platform/default/dso_loader.cc:64] Could not load dynamic library 'libnvinfer_plugin.so.7'; dlerror: libnvinfer_plugin.so.7: cannot open shared object file: No such file or directory\n",
      "2023-07-13 09:42:42.560219: W tensorflow/compiler/tf2tensorrt/utils/py_utils.cc:38] TF-TRT Warning: Cannot dlopen some TensorRT libraries. If you would like to use Nvidia GPU with TensorRT, please make sure the missing libraries mentioned above are installed properly.\n",
      "2023-07-13 09:43:12.362641: E tensorflow/stream_executor/cuda/cuda_driver.cc:265] failed call to cuInit: CUDA_ERROR_NO_DEVICE: no CUDA-capable device is detected\n",
      "2023-07-13 09:43:12.362751: I tensorflow/stream_executor/cuda/cuda_diagnostics.cc:156] kernel driver does not appear to be running on this host (mufasa): /proc/driver/nvidia/version does not exist\n"
     ]
    }
   ],
   "source": [
    "import harmony"
   ]
  },
  {
   "cell_type": "code",
   "execution_count": 2,
   "id": "ccc0f467",
   "metadata": {},
   "outputs": [],
   "source": [
    "from harmony import load_instruments_from_local_file"
   ]
  },
  {
   "cell_type": "code",
   "execution_count": 3,
   "id": "835cfb6a",
   "metadata": {},
   "outputs": [
    {
     "name": "stdout",
     "output_type": "stream",
     "text": [
      "Preparing data for Tika\n",
      "Calling Tika\n",
      "Got response from Tika\n",
      "Parsed response from Tika\n"
     ]
    },
    {
     "name": "stderr",
     "output_type": "stream",
     "text": [
      "/media/thomas/642d0db5-2c98-4156-b591-1a3572c5868c/anaconda3/envs/py310/lib/python3.10/site-packages/harmony/parsing/text_extraction/smart_document_parser.py:89: SettingWithCopyWarning: \n",
      "A value is trying to be set on a copy of a slice from a DataFrame\n",
      "\n",
      "See the caveats in the documentation: https://pandas.pydata.org/pandas-docs/stable/user_guide/indexing.html#returning-a-view-versus-a-copy\n",
      "  df_pred.rename(columns={\"preceding_bullet_value\": \"question_no\"}, inplace=True)\n"
     ]
    },
    {
     "name": "stdout",
     "output_type": "stream",
     "text": [
      "Excluding question Date of Birth\n",
      "Excluding question Yes- minor difficulties\n",
      "Excluding question If you have answered \"Yes\", please answer the following questions about these difficulties\n",
      "Excluding question Less than a month\n",
      "Excluding question A great deal\n",
      "Excluding question CLASSROOM LEARNING\n",
      "Excluding question Today's Date\n",
      "Excluding question Robert Goodman,\n",
      "Excluding question Yes- definite difficulties\n",
      "Excluding question Yes- severe difficulties\n",
      "Excluding question A great deal\n",
      "Excluding question A great deal\n",
      "Excluding question Female Date of Birth\n",
      "Excluding question Not True Somewhat True Certainly True\n",
      "Excluding question No Yes- minor difficulties\n",
      "Excluding question If you have answered \"Yes\", please answer the following questions about these difficulties\n",
      "Excluding question Less than a month\n",
      "Excluding question months Over a year\n",
      "Excluding question Not at all Only a little Quite a lot A great deal\n",
      "Excluding question Not at all Your Signature\n",
      "Excluding question Today's Date\n",
      "Excluding question Robert Goodman,\n",
      "Excluding question Yes- definite difficulties Yes- severe difficulties\n",
      "Excluding question 6-12 months\n",
      "Excluding question Not at all Only a little Quite a lot A great deal\n",
      "Excluding question Only a little Quite a lot A great deal\n"
     ]
    }
   ],
   "source": [
    "instruments = load_instruments_from_local_file(\"SDQ_English(UK)_s11-17full.pdf\")"
   ]
  },
  {
   "cell_type": "code",
   "execution_count": 8,
   "id": "c1b7e46d",
   "metadata": {},
   "outputs": [
    {
     "data": {
      "text/plain": [
       "1"
      ]
     },
     "execution_count": 8,
     "metadata": {},
     "output_type": "execute_result"
    }
   ],
   "source": [
    "len(instruments)"
   ]
  },
  {
   "cell_type": "code",
   "execution_count": 10,
   "id": "77d1c272",
   "metadata": {},
   "outputs": [],
   "source": [
    "# import json\n",
    "# import pickle as pkl\n",
    "# with open(\"sdq.txt\", \"w\", encoding=\"utf-8\") as f:\n",
    "#     f.write(instruments[0].json())"
   ]
  },
  {
   "cell_type": "code",
   "execution_count": 3,
   "id": "865409f8",
   "metadata": {},
   "outputs": [],
   "source": [
    "from harmony.schemas.requests.text import Instrument"
   ]
  },
  {
   "cell_type": "code",
   "execution_count": 5,
   "id": "059b1688",
   "metadata": {},
   "outputs": [],
   "source": [
    "import pickle as pkl\n",
    "with open(\"sdq.txt\", \"r\", encoding=\"utf-8\") as f:\n",
    "    instruments = [Instrument.parse_raw(f.read())]"
   ]
  },
  {
   "cell_type": "code",
   "execution_count": 6,
   "id": "01e56224",
   "metadata": {},
   "outputs": [
    {
     "data": {
      "text/plain": [
       "[Instrument(file_id='3f4a0966189645fc97c0b72e54263e86', instrument_id='3f4a0966189645fc97c0b72e54263e86_0', instrument_name='Untitled file', file_name='Untitled file', file_type=<FileType.pdf: 'pdf'>, file_section='', study=None, sweep=None, metadata=None, language=<Language.English: 'en'>, questions=[Question(question_no='1', question_intro='', question_text='It would help us if you answered all items as best you can even if you are not absolutely certain or the item seems daft', options=[], source_page=0, instrument_id=None, instrument_name=None, topics_auto=None, nearest_match_from_mhc_auto=None), Question(question_no='2', question_intro='', question_text='Please give your answers on the basis of how things have been for you over the last six months.', options=[], source_page=0, instrument_id=None, instrument_name=None, topics_auto=None, nearest_match_from_mhc_auto=None), Question(question_no='4', question_intro='', question_text='I care about their feelings', options=[], source_page=0, instrument_id=None, instrument_name=None, topics_auto=None, nearest_match_from_mhc_auto=None), Question(question_no='5', question_intro='', question_text='I am restless, I cannot stay still for long', options=[], source_page=0, instrument_id=None, instrument_name=None, topics_auto=None, nearest_match_from_mhc_auto=None), Question(question_no='6', question_intro='', question_text='I get a lot of headaches, stomach-aches or sickness', options=[], source_page=0, instrument_id=None, instrument_name=None, topics_auto=None, nearest_match_from_mhc_auto=None), Question(question_no='7', question_intro='', question_text='I usually share with others (food, games, pens etc', options=[], source_page=0, instrument_id=None, instrument_name=None, topics_auto=None, nearest_match_from_mhc_auto=None), Question(question_no='8', question_intro='', question_text='I get very angry and often lose my temper', options=[], source_page=0, instrument_id=None, instrument_name=None, topics_auto=None, nearest_match_from_mhc_auto=None), Question(question_no='9', question_intro='', question_text='I generally play alone or keep to myself', options=[], source_page=0, instrument_id=None, instrument_name=None, topics_auto=None, nearest_match_from_mhc_auto=None), Question(question_no='10', question_intro='', question_text='I usually do as I am told', options=[], source_page=0, instrument_id=None, instrument_name=None, topics_auto=None, nearest_match_from_mhc_auto=None), Question(question_no='11', question_intro='', question_text='I worry a lot', options=[], source_page=0, instrument_id=None, instrument_name=None, topics_auto=None, nearest_match_from_mhc_auto=None), Question(question_no='12', question_intro='', question_text='I am helpful if someone is hurt, upset or feeling ill', options=[], source_page=0, instrument_id=None, instrument_name=None, topics_auto=None, nearest_match_from_mhc_auto=None), Question(question_no='13', question_intro='', question_text='I am constantly fidgeting or squirming', options=[], source_page=0, instrument_id=None, instrument_name=None, topics_auto=None, nearest_match_from_mhc_auto=None), Question(question_no='14', question_intro='', question_text='I have one good friend or more', options=[], source_page=0, instrument_id=None, instrument_name=None, topics_auto=None, nearest_match_from_mhc_auto=None), Question(question_no='15', question_intro='', question_text='I can make other people do what I want', options=[], source_page=0, instrument_id=None, instrument_name=None, topics_auto=None, nearest_match_from_mhc_auto=None), Question(question_no='16', question_intro='', question_text='I am often unhappy, down-hearted or tearful', options=[], source_page=0, instrument_id=None, instrument_name=None, topics_auto=None, nearest_match_from_mhc_auto=None), Question(question_no='17', question_intro='', question_text='Other people my age generally like me', options=[], source_page=0, instrument_id=None, instrument_name=None, topics_auto=None, nearest_match_from_mhc_auto=None), Question(question_no='18', question_intro='', question_text='I am easily distracted, I find it difficult to concentrate', options=[], source_page=0, instrument_id=None, instrument_name=None, topics_auto=None, nearest_match_from_mhc_auto=None), Question(question_no='19', question_intro='', question_text='I easily lose confidence', options=[], source_page=0, instrument_id=None, instrument_name=None, topics_auto=None, nearest_match_from_mhc_auto=None), Question(question_no='20', question_intro='', question_text='I am kind to younger children', options=[], source_page=0, instrument_id=None, instrument_name=None, topics_auto=None, nearest_match_from_mhc_auto=None), Question(question_no='21', question_intro='', question_text='I am often accused of lying or cheating', options=[], source_page=0, instrument_id=None, instrument_name=None, topics_auto=None, nearest_match_from_mhc_auto=None), Question(question_no='22', question_intro='', question_text='Other children or young people pick on me or bully me', options=[], source_page=0, instrument_id=None, instrument_name=None, topics_auto=None, nearest_match_from_mhc_auto=None), Question(question_no='23', question_intro='', question_text='I often volunteer to help others (parents, teachers, children', options=[], source_page=0, instrument_id=None, instrument_name=None, topics_auto=None, nearest_match_from_mhc_auto=None), Question(question_no='24', question_intro='', question_text='I think before I do things', options=[], source_page=0, instrument_id=None, instrument_name=None, topics_auto=None, nearest_match_from_mhc_auto=None), Question(question_no='25', question_intro='', question_text='I take things that are not mine from home, school or elsewhere', options=[], source_page=0, instrument_id=None, instrument_name=None, topics_auto=None, nearest_match_from_mhc_auto=None), Question(question_no='26', question_intro='', question_text='I get on better with adults than with people my own age', options=[], source_page=0, instrument_id=None, instrument_name=None, topics_auto=None, nearest_match_from_mhc_auto=None), Question(question_no='27', question_intro='', question_text='I have many fears, I am easily scared', options=[], source_page=0, instrument_id=None, instrument_name=None, topics_auto=None, nearest_match_from_mhc_auto=None), Question(question_no='28', question_intro='', question_text='My attention is good', options=[], source_page=0, instrument_id=None, instrument_name=None, topics_auto=None, nearest_match_from_mhc_auto=None), Question(question_no='29', question_intro='', question_text='Please turn over - there are a few more questions on the other side', options=[], source_page=0, instrument_id=None, instrument_name=None, topics_auto=None, nearest_match_from_mhc_auto=None), Question(question_no='30', question_intro='', question_text='Do you have any other comments or concerns?', options=[], source_page=0, instrument_id=None, instrument_name=None, topics_auto=None, nearest_match_from_mhc_auto=None), Question(question_no='31', question_intro='', question_text='Overall, do you think that you have difficulties in one or more of the following areas', options=[], source_page=0, instrument_id=None, instrument_name=None, topics_auto=None, nearest_match_from_mhc_auto=None), Question(question_no='32', question_intro='', question_text='emotions, concentration, behaviour or being able to get on with other people?', options=[], source_page=0, instrument_id=None, instrument_name=None, topics_auto=None, nearest_match_from_mhc_auto=None), Question(question_no='35', question_intro='', question_text='How long have these difficulties been present?', options=[], source_page=0, instrument_id=None, instrument_name=None, topics_auto=None, nearest_match_from_mhc_auto=None), Question(question_no='37', question_intro='', question_text='Do the difficulties upset or distress you?', options=[], source_page=0, instrument_id=None, instrument_name=None, topics_auto=None, nearest_match_from_mhc_auto=None), Question(question_no='39', question_intro='', question_text='Do the difficulties interfere with your everyday life in the following areas?', options=[], source_page=0, instrument_id=None, instrument_name=None, topics_auto=None, nearest_match_from_mhc_auto=None), Question(question_no='41', question_intro='', question_text='LEISURE ACTIVITIES', options=[], source_page=0, instrument_id=None, instrument_name=None, topics_auto=None, nearest_match_from_mhc_auto=None), Question(question_no='42', question_intro='', question_text='Do the difficulties make it harder for those around you (family, friends, teachers, etc.', options=[], source_page=0, instrument_id=None, instrument_name=None, topics_auto=None, nearest_match_from_mhc_auto=None), Question(question_no='43', question_intro='', question_text='Your Signature', options=[], source_page=0, instrument_id=None, instrument_name=None, topics_auto=None, nearest_match_from_mhc_auto=None), Question(question_no='45', question_intro='', question_text='Thank you very much for your help', options=[], source_page=0, instrument_id=None, instrument_name=None, topics_auto=None, nearest_match_from_mhc_auto=None), Question(question_no='51', question_intro='', question_text='double sided template.wpd spchheh', options=[], source_page=0, instrument_id=None, instrument_name=None, topics_auto=None, nearest_match_from_mhc_auto=None), Question(question_no='52', question_intro='', question_text='It would help us if you answered all items as best you can even if you are not absolutely certain or the item seems daft', options=[], source_page=0, instrument_id=None, instrument_name=None, topics_auto=None, nearest_match_from_mhc_auto=None), Question(question_no='53', question_intro='', question_text='Please give your answers on the basis of how things have been for you over the last six months.', options=[], source_page=0, instrument_id=None, instrument_name=None, topics_auto=None, nearest_match_from_mhc_auto=None), Question(question_no='55', question_intro='', question_text='I care about their feelings', options=[], source_page=0, instrument_id=None, instrument_name=None, topics_auto=None, nearest_match_from_mhc_auto=None), Question(question_no='56', question_intro='', question_text='I am restless, I cannot stay still for long', options=[], source_page=0, instrument_id=None, instrument_name=None, topics_auto=None, nearest_match_from_mhc_auto=None), Question(question_no='57', question_intro='', question_text='I get a lot of headaches, stomach-aches or sickness', options=[], source_page=0, instrument_id=None, instrument_name=None, topics_auto=None, nearest_match_from_mhc_auto=None), Question(question_no='58', question_intro='', question_text='I usually share with others (food, games, pens etc', options=[], source_page=0, instrument_id=None, instrument_name=None, topics_auto=None, nearest_match_from_mhc_auto=None), Question(question_no='59', question_intro='', question_text='I get very angry and often lose my temper', options=[], source_page=0, instrument_id=None, instrument_name=None, topics_auto=None, nearest_match_from_mhc_auto=None), Question(question_no='60', question_intro='', question_text='I generally play alone or keep to myself', options=[], source_page=0, instrument_id=None, instrument_name=None, topics_auto=None, nearest_match_from_mhc_auto=None), Question(question_no='61', question_intro='', question_text='I usually do as I am told', options=[], source_page=0, instrument_id=None, instrument_name=None, topics_auto=None, nearest_match_from_mhc_auto=None), Question(question_no='62', question_intro='', question_text='I worry a lot', options=[], source_page=0, instrument_id=None, instrument_name=None, topics_auto=None, nearest_match_from_mhc_auto=None), Question(question_no='63', question_intro='', question_text='I am helpful if someone is hurt, upset or feeling ill', options=[], source_page=0, instrument_id=None, instrument_name=None, topics_auto=None, nearest_match_from_mhc_auto=None), Question(question_no='64', question_intro='', question_text='I am constantly fidgeting or squirming', options=[], source_page=0, instrument_id=None, instrument_name=None, topics_auto=None, nearest_match_from_mhc_auto=None), Question(question_no='65', question_intro='', question_text='I have one good friend or more', options=[], source_page=0, instrument_id=None, instrument_name=None, topics_auto=None, nearest_match_from_mhc_auto=None), Question(question_no='66', question_intro='', question_text='I can make other people do what I want', options=[], source_page=0, instrument_id=None, instrument_name=None, topics_auto=None, nearest_match_from_mhc_auto=None), Question(question_no='67', question_intro='', question_text='I am often unhappy, down-hearted or tearful', options=[], source_page=0, instrument_id=None, instrument_name=None, topics_auto=None, nearest_match_from_mhc_auto=None), Question(question_no='68', question_intro='', question_text='Other people my age generally like me', options=[], source_page=0, instrument_id=None, instrument_name=None, topics_auto=None, nearest_match_from_mhc_auto=None), Question(question_no='69', question_intro='', question_text='I am easily distracted, I find it difficult to concentrate', options=[], source_page=0, instrument_id=None, instrument_name=None, topics_auto=None, nearest_match_from_mhc_auto=None), Question(question_no='70', question_intro='', question_text='I easily lose confidence', options=[], source_page=0, instrument_id=None, instrument_name=None, topics_auto=None, nearest_match_from_mhc_auto=None), Question(question_no='71', question_intro='', question_text='I am kind to younger children', options=[], source_page=0, instrument_id=None, instrument_name=None, topics_auto=None, nearest_match_from_mhc_auto=None), Question(question_no='72', question_intro='', question_text='I am often accused of lying or cheating', options=[], source_page=0, instrument_id=None, instrument_name=None, topics_auto=None, nearest_match_from_mhc_auto=None), Question(question_no='73', question_intro='', question_text='Other children or young people pick on me or bully me', options=[], source_page=0, instrument_id=None, instrument_name=None, topics_auto=None, nearest_match_from_mhc_auto=None), Question(question_no='74', question_intro='', question_text='I often volunteer to help others (parents, teachers, children', options=[], source_page=0, instrument_id=None, instrument_name=None, topics_auto=None, nearest_match_from_mhc_auto=None), Question(question_no='75', question_intro='', question_text='I think before I do things', options=[], source_page=0, instrument_id=None, instrument_name=None, topics_auto=None, nearest_match_from_mhc_auto=None), Question(question_no='76', question_intro='', question_text='I take things that are not mine from home, school or elsewhere', options=[], source_page=0, instrument_id=None, instrument_name=None, topics_auto=None, nearest_match_from_mhc_auto=None), Question(question_no='77', question_intro='', question_text='I get on better with adults than with people my own age', options=[], source_page=0, instrument_id=None, instrument_name=None, topics_auto=None, nearest_match_from_mhc_auto=None), Question(question_no='78', question_intro='', question_text='I have many fears, I am easily scared', options=[], source_page=0, instrument_id=None, instrument_name=None, topics_auto=None, nearest_match_from_mhc_auto=None), Question(question_no='79', question_intro='', question_text='My attention is good', options=[], source_page=0, instrument_id=None, instrument_name=None, topics_auto=None, nearest_match_from_mhc_auto=None), Question(question_no='81', question_intro='', question_text='Overall, do you think that you have difficulties in one or more of the following areas', options=[], source_page=0, instrument_id=None, instrument_name=None, topics_auto=None, nearest_match_from_mhc_auto=None), Question(question_no='87', question_intro='', question_text='HOME LIFE FRIENDSHIPS CLASSROOM LEARNING LEISURE ACTIVITIES', options=[], source_page=0, instrument_id=None, instrument_name=None, topics_auto=None, nearest_match_from_mhc_auto=None), Question(question_no='88', question_intro='', question_text='Do the difficulties make it harder for those around you (family, friends, teachers, etc.', options=[], source_page=0, instrument_id=None, instrument_name=None, topics_auto=None, nearest_match_from_mhc_auto=None), Question(question_no='91', question_intro='', question_text='Thank you very much for your help', options=[], source_page=0, instrument_id=None, instrument_name=None, topics_auto=None, nearest_match_from_mhc_auto=None)])]"
      ]
     },
     "execution_count": 6,
     "metadata": {},
     "output_type": "execute_result"
    }
   ],
   "source": [
    "instruments"
   ]
  },
  {
   "cell_type": "code",
   "execution_count": 62,
   "id": "c39dafff",
   "metadata": {},
   "outputs": [],
   "source": [
    "seen = set()\n",
    "deduplicated_questions = []\n",
    "for question in instruments[0].questions:\n",
    "    # remove some of the questions that Harmony should not have picked up\n",
    "    if \"item seems daft\" in question.question_text or \"double sided template\" in question.question_text \\\n",
    "        or \"Your Signature\" in question.question_text or \"LEISURE ACTIVITIES\" in question.question_text \\\n",
    "    or \"Please give your answers on the basis\" in question.question_text \\\n",
    "    or \"Thank you very much for your help\" in question.question_text:\n",
    "        continue\n",
    "    if question.question_text not in seen:\n",
    "        deduplicated_questions.append(question)\n",
    "    seen.add(question.question_text)"
   ]
  },
  {
   "cell_type": "code",
   "execution_count": 54,
   "id": "b555ab24",
   "metadata": {},
   "outputs": [],
   "source": [
    "instruments = [Instrument(questions=deduplicated_questions)]"
   ]
  },
  {
   "cell_type": "code",
   "execution_count": 55,
   "id": "dbe5bb48",
   "metadata": {},
   "outputs": [],
   "source": [
    "from harmony import match_instruments"
   ]
  },
  {
   "cell_type": "code",
   "execution_count": 56,
   "id": "7acf7adc",
   "metadata": {},
   "outputs": [],
   "source": [
    "all_questions, similarity, query_similarity, new_vectors_dict = match_instruments(instruments)"
   ]
  },
  {
   "cell_type": "code",
   "execution_count": 57,
   "id": "dd1b0910",
   "metadata": {},
   "outputs": [],
   "source": [
    "import pickle as pkl\n",
    "with open(\"similarity.pkl\", \"wb\") as f:\n",
    "    pkl.dump(similarity, f)"
   ]
  },
  {
   "cell_type": "code",
   "execution_count": 58,
   "id": "78dc3fce",
   "metadata": {},
   "outputs": [],
   "source": [
    "threshold = 0.5"
   ]
  },
  {
   "cell_type": "code",
   "execution_count": 59,
   "id": "f1f26743",
   "metadata": {},
   "outputs": [],
   "source": [
    "groups = []\n",
    "for q1 in range(similarity.shape[0]):\n",
    "    for q2 in range(similarity.shape[1]):\n",
    "        s = similarity[q1][q2]\n",
    "        if s > threshold:\n",
    "            is_found = False\n",
    "            for group in groups:\n",
    "                if q1 in group or q2 in group:\n",
    "                    group.add(q1)\n",
    "                    group.add(q2)\n",
    "                    is_found = True\n",
    "            if not is_found:\n",
    "                groups.append({q1, q2})                "
   ]
  },
  {
   "cell_type": "markdown",
   "id": "b3436c6d",
   "metadata": {},
   "source": [
    "# Print out Harmony's groups"
   ]
  },
  {
   "cell_type": "code",
   "execution_count": 61,
   "id": "ba0ebcf5",
   "metadata": {
    "scrolled": false
   },
   "outputs": [
    {
     "name": "stdout",
     "output_type": "stream",
     "text": [
      "Group 0\n",
      "\t4 I care about their feelings\n",
      "Group 1\n",
      "\t5 I am restless, I cannot stay still for long\n",
      "Group 2\n",
      "\t6 I get a lot of headaches, stomach-aches or sickness\n",
      "Group 3\n",
      "\t7 I usually share with others (food, games, pens etc\n",
      "\t25 I take things that are not mine from home, school or elsewhere\n",
      "Group 4\n",
      "\t42 Do the difficulties make it harder for those around you (family, friends, teachers, etc.\n",
      "\t8 I get very angry and often lose my temper\n",
      "\t12 I am helpful if someone is hurt, upset or feeling ill\n",
      "\t16 I am often unhappy, down-hearted or tearful\n",
      "\t19 I easily lose confidence\n",
      "\t31 Overall, do you think that you have difficulties in one or more of the following areas\n",
      "\t32 emotions, concentration, behaviour or being able to get on with other people?\n",
      "\t35 How long have these difficulties been present?\n",
      "\t37 Do the difficulties upset or distress you?\n",
      "\t39 Do the difficulties interfere with your everyday life in the following areas?\n",
      "Group 5\n",
      "\t9 I generally play alone or keep to myself\n",
      "Group 6\n",
      "\t10 I usually do as I am told\n",
      "Group 7\n",
      "\t27 I have many fears, I am easily scared\n",
      "\t11 I worry a lot\n",
      "Group 8\n",
      "\t42 Do the difficulties make it harder for those around you (family, friends, teachers, etc.\n",
      "\t12 I am helpful if someone is hurt, upset or feeling ill\n",
      "\t16 I am often unhappy, down-hearted or tearful\n",
      "\t19 I easily lose confidence\n",
      "\t31 Overall, do you think that you have difficulties in one or more of the following areas\n",
      "\t32 emotions, concentration, behaviour or being able to get on with other people?\n",
      "\t35 How long have these difficulties been present?\n",
      "\t37 Do the difficulties upset or distress you?\n",
      "\t39 Do the difficulties interfere with your everyday life in the following areas?\n",
      "Group 9\n",
      "\t13 I am constantly fidgeting or squirming\n",
      "\t18 I am easily distracted, I find it difficult to concentrate\n",
      "Group 10\n",
      "\t14 I have one good friend or more\n",
      "Group 11\n",
      "\t15 I can make other people do what I want\n",
      "Group 12\n",
      "\t17 Other people my age generally like me\n",
      "\t20 I am kind to younger children\n",
      "\t22 Other children or young people pick on me or bully me\n",
      "\t23 I often volunteer to help others (parents, teachers, children\n",
      "\t26 I get on better with adults than with people my own age\n",
      "Group 13\n",
      "\t21 I am often accused of lying or cheating\n",
      "Group 14\n",
      "\t24 I think before I do things\n",
      "Group 15\n",
      "\t28 My attention is good\n",
      "Group 16\n",
      "\t29 Please turn over - there are a few more questions on the other side\n",
      "Group 17\n",
      "\t30 Do you have any other comments or concerns?\n",
      "Group 18\n",
      "\t42 Do the difficulties make it harder for those around you (family, friends, teachers, etc.\n",
      "\t12 I am helpful if someone is hurt, upset or feeling ill\n",
      "\t16 I am often unhappy, down-hearted or tearful\n",
      "\t31 Overall, do you think that you have difficulties in one or more of the following areas\n",
      "\t32 emotions, concentration, behaviour or being able to get on with other people?\n",
      "\t35 How long have these difficulties been present?\n",
      "\t37 Do the difficulties upset or distress you?\n",
      "\t39 Do the difficulties interfere with your everyday life in the following areas?\n"
     ]
    }
   ],
   "source": [
    "for idx, g in enumerate(groups):\n",
    "    print (f\"Group {idx}\")\n",
    "    for q_id in g:\n",
    "        print (\"\\t\" + all_questions[q_id].question_no + \" \" + all_questions[q_id].question_text)"
   ]
  },
  {
   "cell_type": "code",
   "execution_count": null,
   "id": "1de0d358",
   "metadata": {},
   "outputs": [],
   "source": []
  }
 ],
 "metadata": {
  "kernelspec": {
   "display_name": "Python [conda env:py310] *",
   "language": "python",
   "name": "conda-env-py310-py"
  },
  "language_info": {
   "codemirror_mode": {
    "name": "ipython",
    "version": 3
   },
   "file_extension": ".py",
   "mimetype": "text/x-python",
   "name": "python",
   "nbconvert_exporter": "python",
   "pygments_lexer": "ipython3",
   "version": "3.10.4"
  }
 },
 "nbformat": 4,
 "nbformat_minor": 5
}
