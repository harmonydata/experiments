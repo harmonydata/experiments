{
  "cells": [
    {
      "cell_type": "markdown",
      "metadata": {
        "id": "view-in-github",
        "colab_type": "text"
      },
      "source": [
        "<a href=\"https://colab.research.google.com/github/harmonydata/experiments/blob/main/Shona_transformer_model_Kufungisisa.ipynb\" target=\"_parent\"><img src=\"https://colab.research.google.com/assets/colab-badge.svg\" alt=\"Open In Colab\"/></a>"
      ]
    },
    {
      "cell_type": "markdown",
      "id": "6bee1fad",
      "metadata": {
        "id": "6bee1fad"
      },
      "source": [
        "# Shona symptom questionnaire for the detection of depression and anxiety\n",
        "\n",
        "https://depts.washington.edu/edgh/zw/hit/web/project-resources/shona_symptom_questionnaire.pdf\n",
        "\n",
        "Exploring how well Harmony can match Shona model"
      ]
    },
    {
      "cell_type": "code",
      "source": [
        "!pip install transformers harmonydata"
      ],
      "metadata": {
        "colab": {
          "base_uri": "https://localhost:8080/"
        },
        "id": "4ccncbP7pKlr",
        "outputId": "f6ea2774-86f0-44b3-9405-118bbd8d8d4c"
      },
      "id": "4ccncbP7pKlr",
      "execution_count": 2,
      "outputs": [
        {
          "output_type": "stream",
          "name": "stdout",
          "text": [
            "Collecting transformers\n",
            "  Downloading transformers-4.30.2-py3-none-any.whl (7.2 MB)\n",
            "\u001b[2K     \u001b[90m━━━━━━━━━━━━━━━━━━━━━━━━━━━━━━━━━━━━━━━━\u001b[0m \u001b[32m7.2/7.2 MB\u001b[0m \u001b[31m70.5 MB/s\u001b[0m eta \u001b[36m0:00:00\u001b[0m\n",
            "\u001b[?25hCollecting harmonydata\n",
            "  Downloading harmonydata-0.5.0-py3-none-any.whl (55 kB)\n",
            "\u001b[2K     \u001b[90m━━━━━━━━━━━━━━━━━━━━━━━━━━━━━━━━━━━━━━━━\u001b[0m \u001b[32m56.0/56.0 kB\u001b[0m \u001b[31m6.1 MB/s\u001b[0m eta \u001b[36m0:00:00\u001b[0m\n",
            "\u001b[?25hRequirement already satisfied: filelock in /usr/local/lib/python3.10/dist-packages (from transformers) (3.12.2)\n",
            "Collecting huggingface-hub<1.0,>=0.14.1 (from transformers)\n",
            "  Downloading huggingface_hub-0.16.4-py3-none-any.whl (268 kB)\n",
            "\u001b[2K     \u001b[90m━━━━━━━━━━━━━━━━━━━━━━━━━━━━━━━━━━━━━━\u001b[0m \u001b[32m268.8/268.8 kB\u001b[0m \u001b[31m25.1 MB/s\u001b[0m eta \u001b[36m0:00:00\u001b[0m\n",
            "\u001b[?25hRequirement already satisfied: numpy>=1.17 in /usr/local/lib/python3.10/dist-packages (from transformers) (1.22.4)\n",
            "Requirement already satisfied: packaging>=20.0 in /usr/local/lib/python3.10/dist-packages (from transformers) (23.1)\n",
            "Requirement already satisfied: pyyaml>=5.1 in /usr/local/lib/python3.10/dist-packages (from transformers) (6.0)\n",
            "Requirement already satisfied: regex!=2019.12.17 in /usr/local/lib/python3.10/dist-packages (from transformers) (2022.10.31)\n",
            "Requirement already satisfied: requests in /usr/local/lib/python3.10/dist-packages (from transformers) (2.27.1)\n",
            "Collecting tokenizers!=0.11.3,<0.14,>=0.11.1 (from transformers)\n",
            "  Downloading tokenizers-0.13.3-cp310-cp310-manylinux_2_17_x86_64.manylinux2014_x86_64.whl (7.8 MB)\n",
            "\u001b[2K     \u001b[90m━━━━━━━━━━━━━━━━━━━━━━━━━━━━━━━━━━━━━━━━\u001b[0m \u001b[32m7.8/7.8 MB\u001b[0m \u001b[31m57.7 MB/s\u001b[0m eta \u001b[36m0:00:00\u001b[0m\n",
            "\u001b[?25hCollecting safetensors>=0.3.1 (from transformers)\n",
            "  Downloading safetensors-0.3.1-cp310-cp310-manylinux_2_17_x86_64.manylinux2014_x86_64.whl (1.3 MB)\n",
            "\u001b[2K     \u001b[90m━━━━━━━━━━━━━━━━━━━━━━━━━━━━━━━━━━━━━━━━\u001b[0m \u001b[32m1.3/1.3 MB\u001b[0m \u001b[31m42.1 MB/s\u001b[0m eta \u001b[36m0:00:00\u001b[0m\n",
            "\u001b[?25hRequirement already satisfied: tqdm>=4.27 in /usr/local/lib/python3.10/dist-packages (from transformers) (4.65.0)\n",
            "Collecting pydantic==1.10.7 (from harmonydata)\n",
            "  Downloading pydantic-1.10.7-cp310-cp310-manylinux_2_17_x86_64.manylinux2014_x86_64.whl (3.1 MB)\n",
            "\u001b[2K     \u001b[90m━━━━━━━━━━━━━━━━━━━━━━━━━━━━━━━━━━━━━━━━\u001b[0m \u001b[32m3.1/3.1 MB\u001b[0m \u001b[31m84.1 MB/s\u001b[0m eta \u001b[36m0:00:00\u001b[0m\n",
            "\u001b[?25hCollecting pandas==2.0.0 (from harmonydata)\n",
            "  Downloading pandas-2.0.0-cp310-cp310-manylinux_2_17_x86_64.manylinux2014_x86_64.whl (12.3 MB)\n",
            "\u001b[2K     \u001b[90m━━━━━━━━━━━━━━━━━━━━━━━━━━━━━━━━━━━━━━━━\u001b[0m \u001b[32m12.3/12.3 MB\u001b[0m \u001b[31m75.1 MB/s\u001b[0m eta \u001b[36m0:00:00\u001b[0m\n",
            "\u001b[?25hCollecting tika==2.6.0 (from harmonydata)\n",
            "  Downloading tika-2.6.0.tar.gz (27 kB)\n",
            "  Preparing metadata (setup.py) ... \u001b[?25l\u001b[?25hdone\n",
            "Collecting lxml==4.9.2 (from harmonydata)\n",
            "  Downloading lxml-4.9.2-cp310-cp310-manylinux_2_17_x86_64.manylinux2014_x86_64.manylinux_2_24_x86_64.whl (7.1 MB)\n",
            "\u001b[2K     \u001b[90m━━━━━━━━━━━━━━━━━━━━━━━━━━━━━━━━━━━━━━━━\u001b[0m \u001b[32m7.1/7.1 MB\u001b[0m \u001b[31m61.8 MB/s\u001b[0m eta \u001b[36m0:00:00\u001b[0m\n",
            "\u001b[?25hCollecting langdetect==1.0.9 (from harmonydata)\n",
            "  Downloading langdetect-1.0.9.tar.gz (981 kB)\n",
            "\u001b[2K     \u001b[90m━━━━━━━━━━━━━━━━━━━━━━━━━━━━━━━━━━━━━━\u001b[0m \u001b[32m981.5/981.5 kB\u001b[0m \u001b[31m45.0 MB/s\u001b[0m eta \u001b[36m0:00:00\u001b[0m\n",
            "\u001b[?25h  Preparing metadata (setup.py) ... \u001b[?25l\u001b[?25hdone\n",
            "Collecting XlsxWriter==3.0.9 (from harmonydata)\n",
            "  Downloading XlsxWriter-3.0.9-py3-none-any.whl (152 kB)\n",
            "\u001b[2K     \u001b[90m━━━━━━━━━━━━━━━━━━━━━━━━━━━━━━━━━━━━━━\u001b[0m \u001b[32m152.8/152.8 kB\u001b[0m \u001b[31m17.4 MB/s\u001b[0m eta \u001b[36m0:00:00\u001b[0m\n",
            "\u001b[?25hCollecting openpyxl==3.1.2 (from harmonydata)\n",
            "  Downloading openpyxl-3.1.2-py2.py3-none-any.whl (249 kB)\n",
            "\u001b[2K     \u001b[90m━━━━━━━━━━━━━━━━━━━━━━━━━━━━━━━━━━━━━━\u001b[0m \u001b[32m250.0/250.0 kB\u001b[0m \u001b[31m22.5 MB/s\u001b[0m eta \u001b[36m0:00:00\u001b[0m\n",
            "\u001b[?25hCollecting spacy==3.5.3 (from harmonydata)\n",
            "  Downloading spacy-3.5.3-cp310-cp310-manylinux_2_17_x86_64.manylinux2014_x86_64.whl (6.6 MB)\n",
            "\u001b[2K     \u001b[90m━━━━━━━━━━━━━━━━━━━━━━━━━━━━━━━━━━━━━━━━\u001b[0m \u001b[32m6.6/6.6 MB\u001b[0m \u001b[31m66.8 MB/s\u001b[0m eta \u001b[36m0:00:00\u001b[0m\n",
            "\u001b[?25hCollecting wget==3.2 (from harmonydata)\n",
            "  Downloading wget-3.2.zip (10 kB)\n",
            "  Preparing metadata (setup.py) ... \u001b[?25l\u001b[?25hdone\n",
            "Requirement already satisfied: six in /usr/local/lib/python3.10/dist-packages (from langdetect==1.0.9->harmonydata) (1.16.0)\n",
            "Requirement already satisfied: et-xmlfile in /usr/local/lib/python3.10/dist-packages (from openpyxl==3.1.2->harmonydata) (1.1.0)\n",
            "Requirement already satisfied: python-dateutil>=2.8.2 in /usr/local/lib/python3.10/dist-packages (from pandas==2.0.0->harmonydata) (2.8.2)\n",
            "Requirement already satisfied: pytz>=2020.1 in /usr/local/lib/python3.10/dist-packages (from pandas==2.0.0->harmonydata) (2022.7.1)\n",
            "Collecting tzdata>=2022.1 (from pandas==2.0.0->harmonydata)\n",
            "  Downloading tzdata-2023.3-py2.py3-none-any.whl (341 kB)\n",
            "\u001b[2K     \u001b[90m━━━━━━━━━━━━━━━━━━━━━━━━━━━━━━━━━━━━━━\u001b[0m \u001b[32m341.8/341.8 kB\u001b[0m \u001b[31m35.6 MB/s\u001b[0m eta \u001b[36m0:00:00\u001b[0m\n",
            "\u001b[?25hRequirement already satisfied: typing-extensions>=4.2.0 in /usr/local/lib/python3.10/dist-packages (from pydantic==1.10.7->harmonydata) (4.7.1)\n",
            "Requirement already satisfied: spacy-legacy<3.1.0,>=3.0.11 in /usr/local/lib/python3.10/dist-packages (from spacy==3.5.3->harmonydata) (3.0.12)\n",
            "Requirement already satisfied: spacy-loggers<2.0.0,>=1.0.0 in /usr/local/lib/python3.10/dist-packages (from spacy==3.5.3->harmonydata) (1.0.4)\n",
            "Requirement already satisfied: murmurhash<1.1.0,>=0.28.0 in /usr/local/lib/python3.10/dist-packages (from spacy==3.5.3->harmonydata) (1.0.9)\n",
            "Requirement already satisfied: cymem<2.1.0,>=2.0.2 in /usr/local/lib/python3.10/dist-packages (from spacy==3.5.3->harmonydata) (2.0.7)\n",
            "Requirement already satisfied: preshed<3.1.0,>=3.0.2 in /usr/local/lib/python3.10/dist-packages (from spacy==3.5.3->harmonydata) (3.0.8)\n",
            "Requirement already satisfied: thinc<8.2.0,>=8.1.8 in /usr/local/lib/python3.10/dist-packages (from spacy==3.5.3->harmonydata) (8.1.10)\n",
            "Requirement already satisfied: wasabi<1.2.0,>=0.9.1 in /usr/local/lib/python3.10/dist-packages (from spacy==3.5.3->harmonydata) (1.1.2)\n",
            "Requirement already satisfied: srsly<3.0.0,>=2.4.3 in /usr/local/lib/python3.10/dist-packages (from spacy==3.5.3->harmonydata) (2.4.6)\n",
            "Requirement already satisfied: catalogue<2.1.0,>=2.0.6 in /usr/local/lib/python3.10/dist-packages (from spacy==3.5.3->harmonydata) (2.0.8)\n",
            "Collecting typer<0.8.0,>=0.3.0 (from spacy==3.5.3->harmonydata)\n",
            "  Downloading typer-0.7.0-py3-none-any.whl (38 kB)\n",
            "Requirement already satisfied: pathy>=0.10.0 in /usr/local/lib/python3.10/dist-packages (from spacy==3.5.3->harmonydata) (0.10.2)\n",
            "Requirement already satisfied: smart-open<7.0.0,>=5.2.1 in /usr/local/lib/python3.10/dist-packages (from spacy==3.5.3->harmonydata) (6.3.0)\n",
            "Requirement already satisfied: jinja2 in /usr/local/lib/python3.10/dist-packages (from spacy==3.5.3->harmonydata) (3.1.2)\n",
            "Requirement already satisfied: setuptools in /usr/local/lib/python3.10/dist-packages (from spacy==3.5.3->harmonydata) (67.7.2)\n",
            "Requirement already satisfied: langcodes<4.0.0,>=3.2.0 in /usr/local/lib/python3.10/dist-packages (from spacy==3.5.3->harmonydata) (3.3.0)\n",
            "Requirement already satisfied: fsspec in /usr/local/lib/python3.10/dist-packages (from huggingface-hub<1.0,>=0.14.1->transformers) (2023.6.0)\n",
            "Requirement already satisfied: urllib3<1.27,>=1.21.1 in /usr/local/lib/python3.10/dist-packages (from requests->transformers) (1.26.16)\n",
            "Requirement already satisfied: certifi>=2017.4.17 in /usr/local/lib/python3.10/dist-packages (from requests->transformers) (2023.5.7)\n",
            "Requirement already satisfied: charset-normalizer~=2.0.0 in /usr/local/lib/python3.10/dist-packages (from requests->transformers) (2.0.12)\n",
            "Requirement already satisfied: idna<4,>=2.5 in /usr/local/lib/python3.10/dist-packages (from requests->transformers) (3.4)\n",
            "Requirement already satisfied: blis<0.8.0,>=0.7.8 in /usr/local/lib/python3.10/dist-packages (from thinc<8.2.0,>=8.1.8->spacy==3.5.3->harmonydata) (0.7.9)\n",
            "Requirement already satisfied: confection<1.0.0,>=0.0.1 in /usr/local/lib/python3.10/dist-packages (from thinc<8.2.0,>=8.1.8->spacy==3.5.3->harmonydata) (0.1.0)\n",
            "Requirement already satisfied: click<9.0.0,>=7.1.1 in /usr/local/lib/python3.10/dist-packages (from typer<0.8.0,>=0.3.0->spacy==3.5.3->harmonydata) (8.1.4)\n",
            "Requirement already satisfied: MarkupSafe>=2.0 in /usr/local/lib/python3.10/dist-packages (from jinja2->spacy==3.5.3->harmonydata) (2.1.3)\n",
            "Building wheels for collected packages: langdetect, tika, wget\n",
            "  Building wheel for langdetect (setup.py) ... \u001b[?25l\u001b[?25hdone\n",
            "  Created wheel for langdetect: filename=langdetect-1.0.9-py3-none-any.whl size=993224 sha256=f6f9719a7f581f8766ae6a4cbd4a9c08c8d13ce9b627be9012118c53d4655ce0\n",
            "  Stored in directory: /root/.cache/pip/wheels/95/03/7d/59ea870c70ce4e5a370638b5462a7711ab78fba2f655d05106\n",
            "  Building wheel for tika (setup.py) ... \u001b[?25l\u001b[?25hdone\n",
            "  Created wheel for tika: filename=tika-2.6.0-py3-none-any.whl size=32625 sha256=f1118addf700d7d1814810123be7ee05a2eae9a4b5a08eb76cd7565f10c8ade2\n",
            "  Stored in directory: /root/.cache/pip/wheels/5f/71/c7/b757709531121b1700cffda5b6b0d4aad095fb507ec84316d0\n",
            "  Building wheel for wget (setup.py) ... \u001b[?25l\u001b[?25hdone\n",
            "  Created wheel for wget: filename=wget-3.2-py3-none-any.whl size=9657 sha256=72b8148993969d2ac13a919f55bbd6dbe91a61c7228c0e412d2546a919b93a01\n",
            "  Stored in directory: /root/.cache/pip/wheels/8b/f1/7f/5c94f0a7a505ca1c81cd1d9208ae2064675d97582078e6c769\n",
            "Successfully built langdetect tika wget\n",
            "Installing collected packages: wget, tokenizers, safetensors, XlsxWriter, tzdata, typer, pydantic, openpyxl, lxml, langdetect, tika, pandas, huggingface-hub, transformers, spacy, harmonydata\n",
            "  Attempting uninstall: typer\n",
            "    Found existing installation: typer 0.9.0\n",
            "    Uninstalling typer-0.9.0:\n",
            "      Successfully uninstalled typer-0.9.0\n",
            "  Attempting uninstall: pydantic\n",
            "    Found existing installation: pydantic 1.10.11\n",
            "    Uninstalling pydantic-1.10.11:\n",
            "      Successfully uninstalled pydantic-1.10.11\n",
            "  Attempting uninstall: openpyxl\n",
            "    Found existing installation: openpyxl 3.0.10\n",
            "    Uninstalling openpyxl-3.0.10:\n",
            "      Successfully uninstalled openpyxl-3.0.10\n",
            "  Attempting uninstall: lxml\n",
            "    Found existing installation: lxml 4.9.3\n",
            "    Uninstalling lxml-4.9.3:\n",
            "      Successfully uninstalled lxml-4.9.3\n",
            "  Attempting uninstall: pandas\n",
            "    Found existing installation: pandas 1.5.3\n",
            "    Uninstalling pandas-1.5.3:\n",
            "      Successfully uninstalled pandas-1.5.3\n",
            "  Attempting uninstall: spacy\n",
            "    Found existing installation: spacy 3.5.4\n",
            "    Uninstalling spacy-3.5.4:\n",
            "      Successfully uninstalled spacy-3.5.4\n",
            "\u001b[31mERROR: pip's dependency resolver does not currently take into account all the packages that are installed. This behaviour is the source of the following dependency conflicts.\n",
            "google-colab 1.0.0 requires pandas==1.5.3, but you have pandas 2.0.0 which is incompatible.\u001b[0m\u001b[31m\n",
            "\u001b[0mSuccessfully installed XlsxWriter-3.0.9 harmonydata-0.5.0 huggingface-hub-0.16.4 langdetect-1.0.9 lxml-4.9.2 openpyxl-3.1.2 pandas-2.0.0 pydantic-1.10.7 safetensors-0.3.1 spacy-3.5.3 tika-2.6.0 tokenizers-0.13.3 transformers-4.30.2 typer-0.7.0 tzdata-2023.3 wget-3.2\n"
          ]
        }
      ]
    },
    {
      "cell_type": "code",
      "execution_count": 84,
      "id": "723a63b0",
      "metadata": {
        "id": "723a63b0"
      },
      "outputs": [],
      "source": [
        "questions = \"\"\"Pane pamaimboona muchinyanya kufungisisa kana kufunga zvakawanda here?\n",
        "Pane pamaimbotadza kuisa pfungwa dzenyu panwechete here?\n",
        "Maimboshatirwa kanakuita hasha zvenhando here?\n",
        "Maimborota hope dzinotyisa kana dzisina kunaka here?\n",
        "Maimboona kana kunzwa zvinhu zvangazvisinga onekwe kana kunzwikwa nevamwe?\n",
        "Mudumbu menyu maimborwa dza here?\n",
        "Maimbovhundutswa nezvinhu zvisina mature here?\n",
        "Maimbota dza kurara kana kushaya hope here?\n",
        "Pane pamaimbonzwa muchiomerwa neupenyu zvekuti makambochema kana kuti makambonzwa kuda kuchema here?\n",
        "Maimbonzwa kuneta here?\n",
        "Pane pamaimboita pfungwa dzekuda kuzviuraya here?\n",
        "Mainzwa kusafara here mune zvamaiita zuva nezuva?\n",
        "Basa renyu raive rave kusarira muma shure here?\n",
        "Mainzwa zvichikuomerai here kuti muzive kuti moita zvipi?\"\"\""
      ]
    },
    {
      "cell_type": "code",
      "source": [
        "official_translation = \"\"\"Did you sometimes think deeply or think about many things?\n",
        "Did you find yourself sometimes failing to concentrate?\n",
        "Did you lose your temper or get annoyed over trivial matters?\n",
        "Did you have nightmares or bad dreams?\n",
        "Did you sometimes see or hear things others could not see or hear?\n",
        "Was your stomach aching?\n",
        "Were you frightened by trivial things?\n",
        "Did you sometimes fail to sleep or did you lose sleep?\n",
        "Were there times when you felt life was so tough you cried or wanted to cry?\n",
        "Did you feel run down (tired)?\n",
        "Did you sometimes feel like committing suicide?\n",
        "Were you generally unhappy with the things you were doing each day?\n",
        "Was your work lagging behind?\n",
        "Did you feel you had problems deciding what to do?\"\"\".split(\"\\n\")"
      ],
      "metadata": {
        "id": "Y7cON2rSw6_M"
      },
      "id": "Y7cON2rSw6_M",
      "execution_count": 125,
      "outputs": []
    },
    {
      "cell_type": "code",
      "source": [
        "import numpy as np\n",
        "shona_embeddings = model(questions.split(\"\\n\"))"
      ],
      "metadata": {
        "id": "JFt22yWRqNgj"
      },
      "id": "JFt22yWRqNgj",
      "execution_count": 87,
      "outputs": []
    },
    {
      "cell_type": "code",
      "source": [
        "len(shona_embeddings[0][0][0])"
      ],
      "metadata": {
        "colab": {
          "base_uri": "https://localhost:8080/"
        },
        "id": "UaR4dgOnroo-",
        "outputId": "251095a2-0aed-4132-8ad7-bb02c7317ed3"
      },
      "id": "UaR4dgOnroo-",
      "execution_count": 88,
      "outputs": [
        {
          "output_type": "execute_result",
          "data": {
            "text/plain": [
              "768"
            ]
          },
          "metadata": {},
          "execution_count": 88
        }
      ]
    },
    {
      "cell_type": "code",
      "source": [
        "all_sentence_embeddings = np.asarray([np.mean(token_embeddings[0], axis=0) for token_embeddings in shona_embeddings])"
      ],
      "metadata": {
        "id": "3C2h58rPru2J"
      },
      "id": "3C2h58rPru2J",
      "execution_count": 89,
      "outputs": []
    },
    {
      "cell_type": "code",
      "source": [
        "from harmony import example_instruments"
      ],
      "metadata": {
        "id": "Lwlth1alsIid"
      },
      "id": "Lwlth1alsIid",
      "execution_count": 90,
      "outputs": []
    },
    {
      "cell_type": "code",
      "source": [
        "example_instruments.keys()"
      ],
      "metadata": {
        "colab": {
          "base_uri": "https://localhost:8080/"
        },
        "id": "8nLPgYQPxkIV",
        "outputId": "bbca7d7b-9257-40e9-b8b2-12589d38f12d"
      },
      "id": "8nLPgYQPxkIV",
      "execution_count": 129,
      "outputs": [
        {
          "output_type": "execute_result",
          "data": {
            "text/plain": [
              "dict_keys(['CES_D English', 'SCARED English', 'GAD-7 Portuguese', 'De Jong Gierveld Loneliness Scale English', 'Market research survey fictional soft drink English', 'GAD-7 English', 'GHQ 12 English', 'Market research survey template English', 'Adult ADHD Self-Report Scale English', 'MacLean Screening Instrument for BPD English', 'RCADS Child Reported English'])"
            ]
          },
          "metadata": {},
          "execution_count": 129
        }
      ]
    },
    {
      "cell_type": "code",
      "source": [
        "instrument_english = example_instruments['GHQ 12 English']"
      ],
      "metadata": {
        "id": "KFhfB2Sdsmaj"
      },
      "id": "KFhfB2Sdsmaj",
      "execution_count": 142,
      "outputs": []
    },
    {
      "cell_type": "code",
      "source": [],
      "metadata": {
        "id": "NiLM-UaPxyp_"
      },
      "id": "NiLM-UaPxyp_",
      "execution_count": 142,
      "outputs": []
    },
    {
      "cell_type": "code",
      "source": [
        "def get_shona_embedding(texts: list):\n",
        "  shona_embeddings = model(texts)\n",
        "  return np.asarray([np.mean(token_embeddings[0], axis=0) for token_embeddings in shona_embeddings])"
      ],
      "metadata": {
        "id": "1AyrUmXQsq_e"
      },
      "id": "1AyrUmXQsq_e",
      "execution_count": 143,
      "outputs": []
    },
    {
      "cell_type": "code",
      "source": [
        "# import os\n",
        "# os.environ[\"HARMONY_NO_PARSING\"] = \"True\"\n",
        "# os.environ[\"HARMONY_NO_MATCHING\"] = \"True\""
      ],
      "metadata": {
        "id": "RWr3G6DCtJN0"
      },
      "id": "RWr3G6DCtJN0",
      "execution_count": 144,
      "outputs": []
    },
    {
      "cell_type": "code",
      "source": [
        "from harmony import match_instruments_with_function"
      ],
      "metadata": {
        "id": "-8NI0Lnws4yH"
      },
      "id": "-8NI0Lnws4yH",
      "execution_count": 145,
      "outputs": []
    },
    {
      "cell_type": "code",
      "source": [
        "from harmony.schemas.requests.text import Instrument, Question"
      ],
      "metadata": {
        "id": "HFIwlaO_t4dS"
      },
      "id": "HFIwlaO_t4dS",
      "execution_count": 146,
      "outputs": []
    },
    {
      "cell_type": "code",
      "source": [
        "shona_instrument = Instrument(questions = [Question(question_text=q, question_no = str(i)) for i, q in enumerate(questions.split(\"\\n\"))])"
      ],
      "metadata": {
        "id": "OQvEJjDpt4pY"
      },
      "id": "OQvEJjDpt4pY",
      "execution_count": 147,
      "outputs": []
    },
    {
      "cell_type": "code",
      "source": [
        "all_questions, similarity, query_similarity, new_vectors_dict = match_instruments_with_function([instrument_english, shona_instrument], None, get_shona_embedding)"
      ],
      "metadata": {
        "id": "NH0LGCEItgnX"
      },
      "id": "NH0LGCEItgnX",
      "execution_count": 148,
      "outputs": []
    },
    {
      "cell_type": "code",
      "source": [
        "threshold = 0.5"
      ],
      "metadata": {
        "id": "SEUdY8o_uK6q"
      },
      "id": "SEUdY8o_uK6q",
      "execution_count": 149,
      "outputs": []
    },
    {
      "cell_type": "code",
      "source": [
        "pair_to_similarity = dict()\n",
        "for q1 in range(len(instrument_english.questions)):\n",
        "    for q2 in range(len(instrument_english.questions), similarity.shape[1]):\n",
        "        s = similarity[q1][q2]\n",
        "        pair_to_similarity[(q1, q2)] = s"
      ],
      "metadata": {
        "id": "tSc2FjyTuPRP"
      },
      "id": "tSc2FjyTuPRP",
      "execution_count": 150,
      "outputs": []
    },
    {
      "cell_type": "code",
      "source": [
        "import operator"
      ],
      "metadata": {
        "id": "EtTdcv3ewGju"
      },
      "id": "EtTdcv3ewGju",
      "execution_count": 151,
      "outputs": []
    },
    {
      "cell_type": "code",
      "source": [
        "seen = set()\n",
        "for (q1, q2), score in sorted(pair_to_similarity.items(), key=operator.itemgetter(1), reverse=True):\n",
        "    if q1 in seen or q2 in seen:\n",
        "      continue\n",
        "    print (f\"{score:.0%}\\tGHQ-12 \\\"{all_questions[q1].question_text}\\\" matched to Shona: \\\"{all_questions[q2].question_text}\\\"\")\n",
        "    print (\"\\t\\ttranslation: \", official_translation[int(all_questions[q2].question_no)])\n",
        "    seen.add(q1)\n",
        "    seen.add(q2)"
      ],
      "metadata": {
        "colab": {
          "base_uri": "https://localhost:8080/"
        },
        "id": "nW0Gga-MwHjb",
        "outputId": "60e8ef43-2cdd-4038-e7ea-bdccc1f1f876"
      },
      "id": "nW0Gga-MwHjb",
      "execution_count": 152,
      "outputs": [
        {
          "output_type": "stream",
          "name": "stdout",
          "text": [
            "96%\tGHQ-12 \"Been able to concentrate on what you’re doing? \" matched to Shona: \"Maimborota hope dzinotyisa kana dzisina kunaka here?\"\n",
            "\t\ttranslation:  Did you have nightmares or bad dreams?\n",
            "96%\tGHQ-12 \"Felt capable of making decisions about things?\" matched to Shona: \"Pane pamaimboita pfungwa dzekuda kuzviuraya here?\"\n",
            "\t\ttranslation:  Did you sometimes feel like committing suicide?\n",
            "96%\tGHQ-12 \"Been feeling unhappy and depressed?\" matched to Shona: \"Maimbovhundutswa nezvinhu zvisina mature here?\"\n",
            "\t\ttranslation:  Were you frightened by trivial things?\n",
            "96%\tGHQ-12 \"Felt you couldn’t overcome your difficulties?\" matched to Shona: \"Pane pamaimbotadza kuisa pfungwa dzenyu panwechete here?\"\n",
            "\t\ttranslation:  Did you find yourself sometimes failing to concentrate?\n",
            "96%\tGHQ-12 \"Been able to enjoy your normal day-to-day activities?\" matched to Shona: \"Pane pamaimboona muchinyanya kufungisisa kana kufunga zvakawanda here?\"\n",
            "\t\ttranslation:  Did you sometimes think deeply or think about many things?\n",
            "96%\tGHQ-12 \"Felt you were playing a useful part in things?\" matched to Shona: \"Mainzwa zvichikuomerai here kuti muzive kuti moita zvipi?\"\n",
            "\t\ttranslation:  Did you feel you had problems deciding what to do?\n",
            "95%\tGHQ-12 \"Felt constantly under strain?\" matched to Shona: \"Mudumbu menyu maimborwa dza here?\"\n",
            "\t\ttranslation:  Was your stomach aching?\n",
            "95%\tGHQ-12 \"Been thinking of yourself as a worthless person?\" matched to Shona: \"Pane pamaimbonzwa muchiomerwa neupenyu zvekuti makambochema kana kuti makambonzwa kuda kuchema here?\"\n",
            "\t\ttranslation:  Were there times when you felt life was so tough you cried or wanted to cry?\n",
            "95%\tGHQ-12 \"Been feeling reasonably happy, all things considered\" matched to Shona: \"Maimboshatirwa kanakuita hasha zvenhando here?\"\n",
            "\t\ttranslation:  Did you lose your temper or get annoyed over trivial matters?\n",
            "94%\tGHQ-12 \"Been losing confidence in yourself?\" matched to Shona: \"Basa renyu raive rave kusarira muma shure here?\"\n",
            "\t\ttranslation:  Was your work lagging behind?\n",
            "94%\tGHQ-12 \"Been able to face up to your problems?\" matched to Shona: \"Mainzwa kusafara here mune zvamaiita zuva nezuva?\"\n",
            "\t\ttranslation:  Were you generally unhappy with the things you were doing each day?\n",
            "-93%\tGHQ-12 \"Lost much sleep over worry?\" matched to Shona: \"Maimboona kana kunzwa zvinhu zvangazvisinga onekwe kana kunzwikwa nevamwe?\"\n",
            "\t\ttranslation:  Did you sometimes see or hear things others could not see or hear?\n"
          ]
        }
      ]
    },
    {
      "cell_type": "code",
      "source": [],
      "metadata": {
        "id": "R_yFt9jOwis1"
      },
      "id": "R_yFt9jOwis1",
      "execution_count": 140,
      "outputs": []
    }
  ],
  "metadata": {
    "kernelspec": {
      "display_name": "Python [conda env:py310] *",
      "language": "python",
      "name": "conda-env-py310-py"
    },
    "language_info": {
      "codemirror_mode": {
        "name": "ipython",
        "version": 3
      },
      "file_extension": ".py",
      "mimetype": "text/x-python",
      "name": "python",
      "nbconvert_exporter": "python",
      "pygments_lexer": "ipython3",
      "version": "3.10.4"
    },
    "colab": {
      "provenance": [],
      "include_colab_link": true
    }
  },
  "nbformat": 4,
  "nbformat_minor": 5
}